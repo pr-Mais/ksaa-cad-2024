{
  "cells": [
    {
      "cell_type": "markdown",
      "metadata": {
        "id": "pWnXDXA_ostJ"
      },
      "source": [
        "<a target=\"_blank\" href=\"https://colab.research.google.com/github/pr-Mais/arabic-reverse-dictionary/blob/main/code/mt5_training_shared_task.ipynb\">\n",
        "  <img src=\"https://colab.research.google.com/assets/colab-badge.svg\" alt=\"Open In Colab\"/>\n",
        "</a>"
      ]
    },
    {
      "cell_type": "markdown",
      "metadata": {
        "id": "Bayx6hJd62NA"
      },
      "source": [
        "# Fine-tuning MT5 for Reverse Dictionary"
      ]
    },
    {
      "cell_type": "code",
      "execution_count": null,
      "metadata": {
        "colab": {
          "base_uri": "https://localhost:8080/"
        },
        "id": "R0wp6owho42L",
        "outputId": "b40af650-c6d6-4e94-9f03-46e76ebd98ae"
      },
      "outputs": [],
      "source": [
        "# This script is used to mount the google drive to the colab environment.\n",
        "import sys\n",
        "\n",
        "IN_COLAB = \"google.colab\" in sys.modules\n",
        "\n",
        "if IN_COLAB:\n",
        "    from google.colab import drive\n",
        "\n",
        "    drive.mount(\"/content/drive\")"
      ]
    },
    {
      "cell_type": "markdown",
      "metadata": {
        "id": "zqUvEpNQ62NC"
      },
      "source": [
        "## Requirements"
      ]
    },
    {
      "cell_type": "markdown",
      "metadata": {
        "id": "kYkhMdGxa7cg"
      },
      "source": [
        "We require the following libraries for the modeling process:"
      ]
    },
    {
      "cell_type": "code",
      "execution_count": null,
      "metadata": {
        "colab": {
          "base_uri": "https://localhost:8080/"
        },
        "id": "82oT0-Ljg1bj",
        "outputId": "009ef1cb-3b59-4abb-bd86-40fc83356972"
      },
      "outputs": [],
      "source": [
        "!pip3 install -q -U datasets==2.18.0\n",
        "!pip3 install -q -U transformers==4.39.2\n",
        "!pip3 install -q -U evaluate==0.4.1\n",
        "!pip3 install -q -U scikit-learn==1.4.1.post1\n",
        "!pip3 install -q -U torch==2.2.1\n",
        "!pip3 install -q -U tokenizers==0.15.2\n",
        "!pip3 install -q -U tqdm==4.66.2\n",
        "!pip3 install -q -U pandas==2.2.1\n",
        "!pip3 install -q -U numpy==1.26.4"
      ]
    },
    {
      "cell_type": "markdown",
      "metadata": {
        "id": "lYynFcO6a7ch"
      },
      "source": [
        "Next, we import all required libraries and modules."
      ]
    },
    {
      "cell_type": "code",
      "execution_count": null,
      "metadata": {},
      "outputs": [],
      "source": [
        "device = torch.device(\"cuda\" if torch.cuda.is_available() else \"cpu\")\n",
        "device"
      ]
    },
    {
      "cell_type": "code",
      "execution_count": null,
      "metadata": {
        "id": "20Q60mSlg2h_"
      },
      "outputs": [],
      "source": [
        "import pandas as pd\n",
        "from tqdm import tqdm\n",
        "from typing import Literal\n",
        "from datasets import Dataset, DatasetDict\n",
        "\n",
        "import torch\n",
        "import torch.nn as nn\n",
        "import torch.nn.functional as F\n",
        "from torch.utils.data import DataLoader\n",
        "\n",
        "from transformers import (\n",
        "    AutoConfig,\n",
        "    AutoTokenizer,\n",
        "    AutoModelForSeq2SeqLM,\n",
        "    AdamW,\n",
        "    set_seed,\n",
        "    get_linear_schedule_with_warmup,\n",
        ")\n",
        "from transformers.modeling_outputs import Seq2SeqLMOutput\n",
        "\n",
        "# For reproducibility\n",
        "set_seed(123)\n",
        "checkpoint = \"UBC-NLP/AraT5v2-base-1024\"\n",
        "#checkpoint = \"google/mt5-base\"\n",
        "device = torch.device(\"cuda\" if torch.cuda.is_available() else \"cpu\")\n",
        "\n",
        "TargetEmbeddingType = Literal[\"electra\", \"bertseg\", \"bertmsa\"]\n",
        "\n",
        "# The max length of the embeddings, this should\n",
        "# match the length of the target embeddings length.\n",
        "max_length = {\n",
        "    \"electra\": 256,\n",
        "    \"bertseg\": 768,\n",
        "    \"bertmsa\": 768,\n",
        "}\n",
        "\n",
        "# Which target embedding to use as the target for the model?\n",
        "target_embedding: TargetEmbeddingType = \"electra\"\n",
        "max_length = max_length[target_embedding]"
      ]
    },
    {
      "cell_type": "markdown",
      "metadata": {
        "id": "2zUANoOaostL"
      },
      "source": [
        "### Loading and preprocessing data"
      ]
    },
    {
      "cell_type": "code",
      "execution_count": null,
      "metadata": {
        "id": "dwTkV_Dla7ci"
      },
      "outputs": [],
      "source": [
        "if not IN_COLAB:\n",
        "  train_ds_path = \"../data/shared-task/train_with_examples.json\"\n",
        "  val_ds_path = \"../data/shared-task/dev.json\"\n",
        "  test_ds_path = \"../data/shared-task/test.json\"\n",
        "else:\n",
        "  train_ds_path = \"/content/drive/MyDrive/shared-task/train_with_examples.json\"\n",
        "  val_ds_path = \"/content/drive/MyDrive/shared-task/dev.json\"\n",
        "  test_ds_path = \"/content/drive/MyDrive/shared-task/test.json\""
      ]
    },
    {
      "cell_type": "code",
      "execution_count": null,
      "metadata": {
        "id": "cHdKsHzEg9HJ"
      },
      "outputs": [],
      "source": [
        "train_df = pd.read_json(train_ds_path, encoding=\"utf-8\")\n",
        "val_df = pd.read_json(val_ds_path, encoding=\"utf-8\")\n",
        "test_df = pd.read_json(test_ds_path, encoding=\"utf-8\")"
      ]
    },
    {
      "cell_type": "code",
      "execution_count": null,
      "metadata": {
        "colab": {
          "base_uri": "https://localhost:8080/"
        },
        "id": "KxVFVcXVa7ci",
        "outputId": "2dab5914-d8f6-49b2-fe2a-3826afbbce88"
      },
      "outputs": [],
      "source": [
        "# Printing out some information about the datasets\n",
        "print(f\"Train dataset has {len(train_df)} examples, and the following columns:\")\n",
        "print(train_df.columns.tolist())\n",
        "print()\n",
        "print(f\"Validation dataset has {len(val_df)} examples, and the following columns:\")\n",
        "print(val_df.columns.tolist())\n",
        "print()\n",
        "print(f\"Test dataset has {len(test_df)} examples, and the following columns:\")\n",
        "print(test_df.columns.tolist())"
      ]
    },
    {
      "cell_type": "code",
      "execution_count": null,
      "metadata": {
        "id": "E2bEuKvxostL"
      },
      "outputs": [],
      "source": [
        "# Merge train and validation into one dict with keys `train` and `val`.\n",
        "# This is for training and development, test set has no targets provided.\n",
        "train_val_dict = {\n",
        "    \"train\": train_df.to_dict(\"records\"),\n",
        "    \"val\": val_df.to_dict(\"records\"),\n",
        "}\n",
        "# Convert to HF dataset\n",
        "train_ds = Dataset.from_pandas(train_df, split=\"train\")\n",
        "val_ds = Dataset.from_pandas(val_df, split=\"validation\")\n",
        "test_ds = Dataset.from_pandas(test_df, split=\"test\")\n",
        "dataset = DatasetDict({\"train\": train_ds, \"val\": val_ds})"
      ]
    },
    {
      "cell_type": "markdown",
      "metadata": {
        "id": "53Tg8Mrpa7cj"
      },
      "source": [
        "In the next steps, we prepare the data for modeling.\n",
        "\n",
        "The features we care about from the dataset are the `gloss` and `examples`, and the target is either `electra`, `bertseg` or `bertmsa`. This means we will train 3 different models on each target.\n",
        "\n",
        "In the preprocessing step, we will tokenize the data and convert it to a format that can be fed into the model. This includes merging the `gloss` and `examples` into a single string, tokenizing the string, and converting the tokens to token ids."
      ]
    },
    {
      "cell_type": "code",
      "execution_count": null,
      "metadata": {
        "colab": {
          "base_uri": "https://localhost:8080/",
          "height": 81,
          "referenced_widgets": [
            "26ba5ae1d74d4d9f904cf9f85b9a4532",
            "19072179cb7c4da69f562997c10bb65a",
            "6ee0dd96be584533982f1a7242ee5652",
            "4728edae205d46129392ba36569c67ac",
            "c058eaa44b1f4c00933e8a7bc2d06481",
            "f9d3fade01334116ab91455b3eeda9aa",
            "246ebff1097b4f1e8cc4e62fb96eb3ff",
            "4d8c83a1f819427d932ba008b9cd8427",
            "c3dfbd283d904794ae2d5e1432c714b4",
            "af1c18d4aa9d4fdfa578cae49c89e381",
            "2d1c70762ed84c99b18f6c2c1f2d544d",
            "6ce837c6fdec4306bf09c05f16bc81bf",
            "c975373eb56746aca14b27f3d99082ba",
            "80fd294bca664f7fbab6dd24ff3b01d2",
            "0c1f04cb64084cb08360130be2e9e60e",
            "eaa25a364b8f4bd18d650fa5cd313f63",
            "3ed55a82f6e64382b7cd6d7984cf3037",
            "bc95e07d227849c7999d513ca174896f",
            "9dde44bf7efa44e4a5d7d1a12254cff8",
            "00e65676538241959934a9af02640057",
            "36a190e52b0a4ce5b9ea73aa58129edf",
            "11ff5f5516b64ad08319e5da149886fd"
          ]
        },
        "id": "3r_FiV7KostM",
        "outputId": "4d789cbf-09a5-44b9-93aa-a5477ba2bf44"
      },
      "outputs": [],
      "source": [
        "# Tokenization step\n",
        "tokenizer = AutoTokenizer.from_pretrained(checkpoint, legacy=False)\n",
        "\n",
        "padding = \"max_length\"\n",
        "max_input_length = 256\n",
        "\n",
        "\n",
        "def preprocess_function(items):\n",
        "    # The inputs are the glosses + examples\n",
        "    if \"examples\" in items:\n",
        "        glosses = [\n",
        "            f\"{gloss}. {example[0]}، {example[1]}\"\n",
        "            for gloss, example in zip(items[\"gloss\"], items[\"examples\"])\n",
        "        ]\n",
        "    else:\n",
        "        glosses = items[\"gloss\"]\n",
        "\n",
        "    model_inputs = tokenizer(\n",
        "        glosses,\n",
        "        max_length=max_input_length,\n",
        "        padding=padding,\n",
        "        truncation=True,\n",
        "        return_tensors=\"pt\",\n",
        "    )\n",
        "\n",
        "    # Adding the 3 types of target embeddings, if they are available.\n",
        "    if \"electra\" in items:\n",
        "        model_inputs[\"electra\"] = items[\"electra\"]  # Electra embeddings\n",
        "    if \"bertseg\" in items:\n",
        "        model_inputs[\"bertseg\"] = items[\"bertseg\"]  # BERTseg embeddings\n",
        "    if \"bertmsa\" in items:\n",
        "        model_inputs[\"bertmsa\"] = items[\"bertmsa\"]  # BERTmsa embeddings\n",
        "\n",
        "    targets = [ex for ex in items[\"word\"]]\n",
        "    # encode the words\n",
        "    labels = tokenizer(\n",
        "        targets,\n",
        "        max_length=max_length,\n",
        "        padding=padding,\n",
        "        truncation=True,\n",
        "        return_tensors=\"pt\",\n",
        "    ).input_ids\n",
        "\n",
        "    # important: we need to replace the index of the padding tokens by -100\n",
        "    # such that they are not taken into account by the CrossEntropyLoss\n",
        "    labels_with_ignore_index = []\n",
        "    for labels_example in labels:\n",
        "        labels_example = [label if label != 0 else -100 for label in labels_example]\n",
        "        labels_with_ignore_index.append(labels_example)\n",
        "\n",
        "    model_inputs[\"labels\"] = labels_with_ignore_index\n",
        "\n",
        "    return model_inputs\n",
        "\n",
        "\n",
        "# Final mapping of the dataset\n",
        "dataset = dataset.map(preprocess_function, batched=True)"
      ]
    },
    {
      "cell_type": "markdown",
      "metadata": {
        "id": "iGzDM1uUa7cj"
      },
      "source": [
        "Finally, data splits are converted into PyTorch `DataLoader` objects for training."
      ]
    },
    {
      "cell_type": "code",
      "execution_count": null,
      "metadata": {
        "id": "vtIrY-3Ng-nB"
      },
      "outputs": [],
      "source": [
        "dataset.set_format(\n",
        "    type=\"torch\",\n",
        "    columns=[\"input_ids\", \"attention_mask\", \"labels\", \"electra\", \"bertseg\", \"bertmsa\", \"word\"],\n",
        "    output_all_columns=False,\n",
        ")\n",
        "train_dataloader = DataLoader(dataset[\"train\"], shuffle=True, batch_size=8)\n",
        "valid_dataloader = DataLoader(dataset[\"val\"], batch_size=4)"
      ]
    },
    {
      "cell_type": "code",
      "execution_count": null,
      "metadata": {
        "colab": {
          "base_uri": "https://localhost:8080/"
        },
        "id": "gGjAs0ZFostM",
        "outputId": "f967580c-fb31-49ca-e750-57d5645bce97"
      },
      "outputs": [],
      "source": [
        "print(\n",
        "    f\"Electra embeddings shape: 1, {dataset['train']['electra'].shape[1]}\\n\"\n",
        "    f\"BERTseg embeddings shape: 1, {dataset['train']['bertseg'].shape[1]}\\n\"\n",
        "    f\"BERTmsa embeddings shape: 1, {dataset['train']['bertmsa'].shape[1]}\\n\"\n",
        ")"
      ]
    },
    {
      "cell_type": "markdown",
      "metadata": {
        "id": "XmuxWaOTostM"
      },
      "source": [
        "## Training"
      ]
    },
    {
      "cell_type": "markdown",
      "metadata": {
        "id": "eYwusIiHa7ck"
      },
      "source": [
        "The training pipeline is prepared to accept 3 types of targets: `electra`, `bertseg`, and `bertmsa`. The training process is the same for all targets."
      ]
    },
    {
      "cell_type": "code",
      "execution_count": null,
      "metadata": {
        "id": "FVdI5YLNostM"
      },
      "outputs": [],
      "source": [
        "# Loss functions\n",
        "mse_loss = nn.MSELoss()\n",
        "\n",
        "\n",
        "def train(\n",
        "    dataloader,\n",
        "    optimizer_,\n",
        "    scheduler_,\n",
        "    device_,\n",
        "    target: TargetEmbeddingType = \"electra\",\n",
        "    validate=False,\n",
        "):\n",
        "    # Use global variable for model.\n",
        "    global model\n",
        "    # Tracking variables.\n",
        "    predictions = []\n",
        "    ground_truth = []\n",
        "    # Total loss for this epoch.\n",
        "    total_loss = 0\n",
        "    if not validate:\n",
        "        model.train()\n",
        "    if validate:\n",
        "        model.eval()\n",
        "\n",
        "    # For each batch of training data...\n",
        "    for batch in tqdm(dataloader):\n",
        "        ground_truth += batch[target].numpy().tolist()\n",
        "        inputs = {\n",
        "            k: v.to(device_)\n",
        "            for k, v in batch.items()\n",
        "            if k in [\"input_ids\", \"attention_mask\"]\n",
        "        }\n",
        "        labels = batch[\"labels\"].to(device)\n",
        "        if not validate:\n",
        "            model.zero_grad()\n",
        "        embeddings = model(**inputs, labels=labels, return_dict=True)\n",
        "        # Loss is calculated on target embeddings, outside the model.\n",
        "        loss = mse_loss(embeddings, batch[target].to(device_))\n",
        "        total_loss += loss.item()\n",
        "        if not validate:\n",
        "            loss.backward()\n",
        "            torch.nn.utils.clip_grad_norm_(model.parameters(), 1.0)\n",
        "            optimizer_.step()\n",
        "            scheduler_.step()\n",
        "        predictions += embeddings.tolist()\n",
        "\n",
        "    # Calculate the average loss over the training data.\n",
        "    avg_epoch_loss = total_loss / len(dataloader)\n",
        "\n",
        "    # Return all true labels and prediction for future evaluations.\n",
        "    return ground_truth, predictions, avg_epoch_loss"
      ]
    },
    {
      "cell_type": "code",
      "execution_count": null,
      "metadata": {
        "id": "aRlFv2-rgz2c"
      },
      "outputs": [],
      "source": [
        "class RevDictModel(nn.Module):\n",
        "    def __init__(self, max_length: int, checkpoint: str):\n",
        "        super().__init__()\n",
        "        model_config = AutoConfig.from_pretrained(checkpoint)\n",
        "        self.base_model = AutoModelForSeq2SeqLM.from_config(model_config)\n",
        "\n",
        "        print(max_length)\n",
        "\n",
        "        # Redefining the linear layer to match the target embedding size (max_length)\n",
        "        self.linear = nn.Linear(self.base_model.config.hidden_size, max_length)\n",
        "\n",
        "    def forward(self, input_ids, attention_mask, **kwargs):\n",
        "        # Only using the encoder part to generate embeddings\n",
        "        outputs = self.base_model.encoder(\n",
        "            input_ids=input_ids,\n",
        "            attention_mask=attention_mask,\n",
        "            return_dict=True,\n",
        "        )\n",
        "        pooled_emb = (outputs.last_hidden_state * attention_mask.unsqueeze(2)).sum(\n",
        "            dim=1\n",
        "        ) / attention_mask.sum(dim=1).unsqueeze(1)\n",
        "        embedding = self.linear(pooled_emb)\n",
        "        return embedding\n",
        "\n",
        "    def save(self, file):\n",
        "        torch.save(self, file)\n",
        "\n",
        "    @staticmethod\n",
        "    def load(file):\n",
        "        return torch.load(file, map_location=device)"
      ]
    },
    {
      "cell_type": "markdown",
      "metadata": {
        "id": "mlbDiMz5a7ck"
      },
      "source": [
        "### Model training per target"
      ]
    },
    {
      "cell_type": "code",
      "execution_count": null,
      "metadata": {
        "id": "k-ZbUM0ma7ck"
      },
      "outputs": [],
      "source": [
        "# Hyperparameters.\n",
        "epochs = 1\n",
        "lr = 3e-5"
      ]
    },
    {
      "cell_type": "code",
      "execution_count": null,
      "metadata": {
        "colab": {
          "base_uri": "https://localhost:8080/"
        },
        "id": "y0fFqQh4hGxq",
        "outputId": "fc6b3b73-9637-4e8d-a6b8-7fec70684776"
      },
      "outputs": [],
      "source": [
        "model = RevDictModel(max_length=max_length, checkpoint=checkpoint)\n",
        "model.to(device)"
      ]
    },
    {
      "cell_type": "code",
      "execution_count": null,
      "metadata": {
        "colab": {
          "base_uri": "https://localhost:8080/"
        },
        "id": "z2o9ySFKostM",
        "outputId": "8360c81f-0b97-4ed6-c0b6-5698c9c83cae"
      },
      "outputs": [],
      "source": [
        "# Total number of training steps is number of batches * number of epochs.\n",
        "# `train_dataloader` contains batched data so `len(train_dataloader)` gives\n",
        "# us the number of batches.\n",
        "total_steps = len(train_dataloader) * epochs\n",
        "\n",
        "optimizer = AdamW(\n",
        "    model.parameters(),\n",
        "    lr=lr,\n",
        "    eps=1e-8,\n",
        ")\n",
        "\n",
        "scheduler = get_linear_schedule_with_warmup(\n",
        "    optimizer,\n",
        "    num_warmup_steps=0,\n",
        "    num_training_steps=total_steps,\n",
        ")\n",
        "\n",
        "# Store the average loss after each epoch so we can plot them.\n",
        "all_loss = {\"train_loss\": [], \"val_loss\": []}\n",
        "\n",
        "# Loop through each epoch.\n",
        "for epoch in range(epochs):\n",
        "    print(f\"Epoch {epoch}\")\n",
        "    train_labels, train_predict, train_loss = train(\n",
        "        train_dataloader, optimizer, scheduler, device, target=target_embedding\n",
        "    )\n",
        "    valid_labels, valid_predict, val_loss = train(\n",
        "        valid_dataloader, optimizer, scheduler, device, validate=True, target=target_embedding\n",
        "    )\n",
        "\n",
        "    # Print loss and accuracy values to see how training evolves.\n",
        "    print(\"  train_loss: %.5f - val_loss: %.5f\" % (train_loss, val_loss))\n",
        "    print()\n",
        "\n",
        "    # Store the loss value for plotting the learning curve.\n",
        "    all_loss[\"train_loss\"].append(train_loss)\n",
        "    all_loss[\"val_loss\"].append(val_loss)\n",
        "\n",
        "# Plot loss curves.\n",
        "# plot_dict(all_loss, use_xlabel=\"Epochs\", use_ylabel=\"Value\", use_linestyles=[\"-\", \"--\"])"
      ]
    },
    {
      "cell_type": "markdown",
      "metadata": {
        "id": "NEux-8l9a7ck"
      },
      "source": [
        "Save the trained model."
      ]
    },
    {
      "cell_type": "code",
      "execution_count": null,
      "metadata": {
        "id": "L1eVf-8BhJg1"
      },
      "outputs": [],
      "source": [
        "save_directory = f\"/content/drive/MyDrive/arat5-v0/mt5_{target_embedding}_checkpoint_0\"\n",
        "model.save(save_directory)"
      ]
    },
    {
      "cell_type": "markdown",
      "metadata": {
        "id": "oERYxvwNhNgP"
      },
      "source": [
        "## Evaluation"
      ]
    },
    {
      "cell_type": "code",
      "execution_count": null,
      "metadata": {
        "id": "fuOHMoTAhKma"
      },
      "outputs": [],
      "source": [
        "# re-load the model\n",
        "model = RevDictModel.load(f\"/content/drive/MyDrive/google-mt5-base-v0/mt5_{target_embedding}_checkpoint_0\")"
      ]
    },
    {
      "cell_type": "code",
      "execution_count": null,
      "metadata": {
        "colab": {
          "base_uri": "https://localhost:8080/"
        },
        "id": "8SCw9IfqWuyy",
        "outputId": "b1828d27-a727-453c-d9b5-dbc1146e6310"
      },
      "outputs": [],
      "source": [
        "predictions = []\n",
        "targets = []\n",
        "for sample in tqdm(valid_dataloader):\n",
        "    with torch.no_grad():\n",
        "        inputs = {\n",
        "            k: v.to(device)\n",
        "            for k, v in sample.items()\n",
        "            if k in [\"input_ids\", \"attention_mask\"]\n",
        "        }\n",
        "        outputs = model(**inputs)\n",
        "        predictions += outputs\n",
        "        targets += sample[target_embedding]"
      ]
    },
    {
      "cell_type": "markdown",
      "metadata": {
        "id": "veOhKU9uostN"
      },
      "source": [
        "### Cosine Similarity\n",
        "\n",
        "Here we calculate the similarity between predictions & targets."
      ]
    },
    {
      "cell_type": "code",
      "execution_count": null,
      "metadata": {
        "id": "0rVY89ArostN"
      },
      "outputs": [],
      "source": [
        "scores = []\n",
        "for pred, target in zip(predictions, targets):\n",
        "    score = F.cosine_similarity(pred.to(device), target.to(device), dim=0)\n",
        "    scores.append(score.item())"
      ]
    },
    {
      "cell_type": "code",
      "execution_count": null,
      "metadata": {
        "colab": {
          "base_uri": "https://localhost:8080/"
        },
        "id": "MuZissSEostN",
        "outputId": "77c73141-db01-4b6e-de60-2b111bc035b4"
      },
      "outputs": [],
      "source": [
        "# Get the mean score\n",
        "mean = sum(scores) / len(scores)\n",
        "mean"
      ]
    },
    {
      "cell_type": "markdown",
      "metadata": {
        "id": "J-BBePM7Rxq-"
      },
      "source": [
        "# Use it"
      ]
    },
    {
      "cell_type": "code",
      "execution_count": null,
      "metadata": {
        "id": "bdZCucQiCa6k"
      },
      "outputs": [],
      "source": [
        "words = dataset['train']['word']\n",
        "targets = dataset['train'][target_embedding]"
      ]
    },
    {
      "cell_type": "code",
      "execution_count": null,
      "metadata": {
        "colab": {
          "base_uri": "https://localhost:8080/"
        },
        "id": "HU_KaOMZgP4X",
        "outputId": "87cbb20d-8563-4a28-f11d-c409eafda372"
      },
      "outputs": [],
      "source": [
        "from torch.nn import functional as F\n",
        "from typing import List\n",
        "\n",
        "model.eval()\n",
        "\n",
        "query = \"منسوب إلى بيع،صفقة يتم بموجبها تبادل الشيء بالشيء أو بما يساوي قيمته\"\n",
        "\n",
        "# Calculate top n words similar to the output embedding\n",
        "scores = {}\n",
        "tokenized_query = tokenizer(\n",
        "    query,\n",
        "    max_length=max_input_length,\n",
        "    padding=padding,\n",
        "    truncation=True,\n",
        "    return_tensors=\"pt\")\n",
        "inputs = {\n",
        "            k: v.to(device)\n",
        "            for k, v in tokenized_query.items()\n",
        "            if k in [\"input_ids\", \"attention_mask\"]\n",
        "        }\n",
        "output = model(**inputs)\n",
        "for i in tqdm(range(len(targets))):\n",
        "  score = F.cosine_similarity(output[0].to(device), targets[i][0].to(device), dim=0)\n",
        "  scores[words[i]] = score.item()"
      ]
    },
    {
      "cell_type": "code",
      "execution_count": null,
      "metadata": {
        "colab": {
          "base_uri": "https://localhost:8080/"
        },
        "id": "qzK6vhSc_yrL",
        "outputId": "219e55fe-742d-4066-f12b-98d17b98cd7b"
      },
      "outputs": [],
      "source": [
        "sorted(scores, key=scores.get, reverse=True)[:10]"
      ]
    }
  ],
  "metadata": {
    "accelerator": "GPU",
    "colab": {
      "gpuType": "A100",
      "machine_shape": "hm",
      "provenance": []
    },
    "kernelspec": {
      "display_name": "Python 3",
      "name": "python3"
    },
    "language_info": {
      "codemirror_mode": {
        "name": "ipython",
        "version": 3
      },
      "file_extension": ".py",
      "mimetype": "text/x-python",
      "name": "python",
      "nbconvert_exporter": "python",
      "pygments_lexer": "ipython3",
      "version": "3.11.7"
    },
    "widgets": {
      "application/vnd.jupyter.widget-state+json": {
        "00e65676538241959934a9af02640057": {
          "model_module": "@jupyter-widgets/controls",
          "model_module_version": "1.5.0",
          "model_name": "ProgressStyleModel",
          "state": {
            "_model_module": "@jupyter-widgets/controls",
            "_model_module_version": "1.5.0",
            "_model_name": "ProgressStyleModel",
            "_view_count": null,
            "_view_module": "@jupyter-widgets/base",
            "_view_module_version": "1.2.0",
            "_view_name": "StyleView",
            "bar_color": null,
            "description_width": ""
          }
        },
        "0c1f04cb64084cb08360130be2e9e60e": {
          "model_module": "@jupyter-widgets/controls",
          "model_module_version": "1.5.0",
          "model_name": "HTMLModel",
          "state": {
            "_dom_classes": [],
            "_model_module": "@jupyter-widgets/controls",
            "_model_module_version": "1.5.0",
            "_model_name": "HTMLModel",
            "_view_count": null,
            "_view_module": "@jupyter-widgets/controls",
            "_view_module_version": "1.5.0",
            "_view_name": "HTMLView",
            "description": "",
            "description_tooltip": null,
            "layout": "IPY_MODEL_36a190e52b0a4ce5b9ea73aa58129edf",
            "placeholder": "​",
            "style": "IPY_MODEL_11ff5f5516b64ad08319e5da149886fd",
            "value": " 3921/3921 [00:18&lt;00:00, 208.59 examples/s]"
          }
        },
        "11ff5f5516b64ad08319e5da149886fd": {
          "model_module": "@jupyter-widgets/controls",
          "model_module_version": "1.5.0",
          "model_name": "DescriptionStyleModel",
          "state": {
            "_model_module": "@jupyter-widgets/controls",
            "_model_module_version": "1.5.0",
            "_model_name": "DescriptionStyleModel",
            "_view_count": null,
            "_view_module": "@jupyter-widgets/base",
            "_view_module_version": "1.2.0",
            "_view_name": "StyleView",
            "description_width": ""
          }
        },
        "19072179cb7c4da69f562997c10bb65a": {
          "model_module": "@jupyter-widgets/controls",
          "model_module_version": "1.5.0",
          "model_name": "HTMLModel",
          "state": {
            "_dom_classes": [],
            "_model_module": "@jupyter-widgets/controls",
            "_model_module_version": "1.5.0",
            "_model_name": "HTMLModel",
            "_view_count": null,
            "_view_module": "@jupyter-widgets/controls",
            "_view_module_version": "1.5.0",
            "_view_name": "HTMLView",
            "description": "",
            "description_tooltip": null,
            "layout": "IPY_MODEL_f9d3fade01334116ab91455b3eeda9aa",
            "placeholder": "​",
            "style": "IPY_MODEL_246ebff1097b4f1e8cc4e62fb96eb3ff",
            "value": "Map: 100%"
          }
        },
        "246ebff1097b4f1e8cc4e62fb96eb3ff": {
          "model_module": "@jupyter-widgets/controls",
          "model_module_version": "1.5.0",
          "model_name": "DescriptionStyleModel",
          "state": {
            "_model_module": "@jupyter-widgets/controls",
            "_model_module_version": "1.5.0",
            "_model_name": "DescriptionStyleModel",
            "_view_count": null,
            "_view_module": "@jupyter-widgets/base",
            "_view_module_version": "1.2.0",
            "_view_name": "StyleView",
            "description_width": ""
          }
        },
        "26ba5ae1d74d4d9f904cf9f85b9a4532": {
          "model_module": "@jupyter-widgets/controls",
          "model_module_version": "1.5.0",
          "model_name": "HBoxModel",
          "state": {
            "_dom_classes": [],
            "_model_module": "@jupyter-widgets/controls",
            "_model_module_version": "1.5.0",
            "_model_name": "HBoxModel",
            "_view_count": null,
            "_view_module": "@jupyter-widgets/controls",
            "_view_module_version": "1.5.0",
            "_view_name": "HBoxView",
            "box_style": "",
            "children": [
              "IPY_MODEL_19072179cb7c4da69f562997c10bb65a",
              "IPY_MODEL_6ee0dd96be584533982f1a7242ee5652",
              "IPY_MODEL_4728edae205d46129392ba36569c67ac"
            ],
            "layout": "IPY_MODEL_c058eaa44b1f4c00933e8a7bc2d06481"
          }
        },
        "2d1c70762ed84c99b18f6c2c1f2d544d": {
          "model_module": "@jupyter-widgets/controls",
          "model_module_version": "1.5.0",
          "model_name": "DescriptionStyleModel",
          "state": {
            "_model_module": "@jupyter-widgets/controls",
            "_model_module_version": "1.5.0",
            "_model_name": "DescriptionStyleModel",
            "_view_count": null,
            "_view_module": "@jupyter-widgets/base",
            "_view_module_version": "1.2.0",
            "_view_name": "StyleView",
            "description_width": ""
          }
        },
        "36a190e52b0a4ce5b9ea73aa58129edf": {
          "model_module": "@jupyter-widgets/base",
          "model_module_version": "1.2.0",
          "model_name": "LayoutModel",
          "state": {
            "_model_module": "@jupyter-widgets/base",
            "_model_module_version": "1.2.0",
            "_model_name": "LayoutModel",
            "_view_count": null,
            "_view_module": "@jupyter-widgets/base",
            "_view_module_version": "1.2.0",
            "_view_name": "LayoutView",
            "align_content": null,
            "align_items": null,
            "align_self": null,
            "border": null,
            "bottom": null,
            "display": null,
            "flex": null,
            "flex_flow": null,
            "grid_area": null,
            "grid_auto_columns": null,
            "grid_auto_flow": null,
            "grid_auto_rows": null,
            "grid_column": null,
            "grid_gap": null,
            "grid_row": null,
            "grid_template_areas": null,
            "grid_template_columns": null,
            "grid_template_rows": null,
            "height": null,
            "justify_content": null,
            "justify_items": null,
            "left": null,
            "margin": null,
            "max_height": null,
            "max_width": null,
            "min_height": null,
            "min_width": null,
            "object_fit": null,
            "object_position": null,
            "order": null,
            "overflow": null,
            "overflow_x": null,
            "overflow_y": null,
            "padding": null,
            "right": null,
            "top": null,
            "visibility": null,
            "width": null
          }
        },
        "3ed55a82f6e64382b7cd6d7984cf3037": {
          "model_module": "@jupyter-widgets/base",
          "model_module_version": "1.2.0",
          "model_name": "LayoutModel",
          "state": {
            "_model_module": "@jupyter-widgets/base",
            "_model_module_version": "1.2.0",
            "_model_name": "LayoutModel",
            "_view_count": null,
            "_view_module": "@jupyter-widgets/base",
            "_view_module_version": "1.2.0",
            "_view_name": "LayoutView",
            "align_content": null,
            "align_items": null,
            "align_self": null,
            "border": null,
            "bottom": null,
            "display": null,
            "flex": null,
            "flex_flow": null,
            "grid_area": null,
            "grid_auto_columns": null,
            "grid_auto_flow": null,
            "grid_auto_rows": null,
            "grid_column": null,
            "grid_gap": null,
            "grid_row": null,
            "grid_template_areas": null,
            "grid_template_columns": null,
            "grid_template_rows": null,
            "height": null,
            "justify_content": null,
            "justify_items": null,
            "left": null,
            "margin": null,
            "max_height": null,
            "max_width": null,
            "min_height": null,
            "min_width": null,
            "object_fit": null,
            "object_position": null,
            "order": null,
            "overflow": null,
            "overflow_x": null,
            "overflow_y": null,
            "padding": null,
            "right": null,
            "top": null,
            "visibility": null,
            "width": null
          }
        },
        "4728edae205d46129392ba36569c67ac": {
          "model_module": "@jupyter-widgets/controls",
          "model_module_version": "1.5.0",
          "model_name": "HTMLModel",
          "state": {
            "_dom_classes": [],
            "_model_module": "@jupyter-widgets/controls",
            "_model_module_version": "1.5.0",
            "_model_name": "HTMLModel",
            "_view_count": null,
            "_view_module": "@jupyter-widgets/controls",
            "_view_module_version": "1.5.0",
            "_view_name": "HTMLView",
            "description": "",
            "description_tooltip": null,
            "layout": "IPY_MODEL_af1c18d4aa9d4fdfa578cae49c89e381",
            "placeholder": "​",
            "style": "IPY_MODEL_2d1c70762ed84c99b18f6c2c1f2d544d",
            "value": " 31372/31372 [02:35&lt;00:00, 204.20 examples/s]"
          }
        },
        "4d8c83a1f819427d932ba008b9cd8427": {
          "model_module": "@jupyter-widgets/base",
          "model_module_version": "1.2.0",
          "model_name": "LayoutModel",
          "state": {
            "_model_module": "@jupyter-widgets/base",
            "_model_module_version": "1.2.0",
            "_model_name": "LayoutModel",
            "_view_count": null,
            "_view_module": "@jupyter-widgets/base",
            "_view_module_version": "1.2.0",
            "_view_name": "LayoutView",
            "align_content": null,
            "align_items": null,
            "align_self": null,
            "border": null,
            "bottom": null,
            "display": null,
            "flex": null,
            "flex_flow": null,
            "grid_area": null,
            "grid_auto_columns": null,
            "grid_auto_flow": null,
            "grid_auto_rows": null,
            "grid_column": null,
            "grid_gap": null,
            "grid_row": null,
            "grid_template_areas": null,
            "grid_template_columns": null,
            "grid_template_rows": null,
            "height": null,
            "justify_content": null,
            "justify_items": null,
            "left": null,
            "margin": null,
            "max_height": null,
            "max_width": null,
            "min_height": null,
            "min_width": null,
            "object_fit": null,
            "object_position": null,
            "order": null,
            "overflow": null,
            "overflow_x": null,
            "overflow_y": null,
            "padding": null,
            "right": null,
            "top": null,
            "visibility": null,
            "width": null
          }
        },
        "6ce837c6fdec4306bf09c05f16bc81bf": {
          "model_module": "@jupyter-widgets/controls",
          "model_module_version": "1.5.0",
          "model_name": "HBoxModel",
          "state": {
            "_dom_classes": [],
            "_model_module": "@jupyter-widgets/controls",
            "_model_module_version": "1.5.0",
            "_model_name": "HBoxModel",
            "_view_count": null,
            "_view_module": "@jupyter-widgets/controls",
            "_view_module_version": "1.5.0",
            "_view_name": "HBoxView",
            "box_style": "",
            "children": [
              "IPY_MODEL_c975373eb56746aca14b27f3d99082ba",
              "IPY_MODEL_80fd294bca664f7fbab6dd24ff3b01d2",
              "IPY_MODEL_0c1f04cb64084cb08360130be2e9e60e"
            ],
            "layout": "IPY_MODEL_eaa25a364b8f4bd18d650fa5cd313f63"
          }
        },
        "6ee0dd96be584533982f1a7242ee5652": {
          "model_module": "@jupyter-widgets/controls",
          "model_module_version": "1.5.0",
          "model_name": "FloatProgressModel",
          "state": {
            "_dom_classes": [],
            "_model_module": "@jupyter-widgets/controls",
            "_model_module_version": "1.5.0",
            "_model_name": "FloatProgressModel",
            "_view_count": null,
            "_view_module": "@jupyter-widgets/controls",
            "_view_module_version": "1.5.0",
            "_view_name": "ProgressView",
            "bar_style": "success",
            "description": "",
            "description_tooltip": null,
            "layout": "IPY_MODEL_4d8c83a1f819427d932ba008b9cd8427",
            "max": 31372,
            "min": 0,
            "orientation": "horizontal",
            "style": "IPY_MODEL_c3dfbd283d904794ae2d5e1432c714b4",
            "value": 31372
          }
        },
        "80fd294bca664f7fbab6dd24ff3b01d2": {
          "model_module": "@jupyter-widgets/controls",
          "model_module_version": "1.5.0",
          "model_name": "FloatProgressModel",
          "state": {
            "_dom_classes": [],
            "_model_module": "@jupyter-widgets/controls",
            "_model_module_version": "1.5.0",
            "_model_name": "FloatProgressModel",
            "_view_count": null,
            "_view_module": "@jupyter-widgets/controls",
            "_view_module_version": "1.5.0",
            "_view_name": "ProgressView",
            "bar_style": "success",
            "description": "",
            "description_tooltip": null,
            "layout": "IPY_MODEL_9dde44bf7efa44e4a5d7d1a12254cff8",
            "max": 3921,
            "min": 0,
            "orientation": "horizontal",
            "style": "IPY_MODEL_00e65676538241959934a9af02640057",
            "value": 3921
          }
        },
        "9dde44bf7efa44e4a5d7d1a12254cff8": {
          "model_module": "@jupyter-widgets/base",
          "model_module_version": "1.2.0",
          "model_name": "LayoutModel",
          "state": {
            "_model_module": "@jupyter-widgets/base",
            "_model_module_version": "1.2.0",
            "_model_name": "LayoutModel",
            "_view_count": null,
            "_view_module": "@jupyter-widgets/base",
            "_view_module_version": "1.2.0",
            "_view_name": "LayoutView",
            "align_content": null,
            "align_items": null,
            "align_self": null,
            "border": null,
            "bottom": null,
            "display": null,
            "flex": null,
            "flex_flow": null,
            "grid_area": null,
            "grid_auto_columns": null,
            "grid_auto_flow": null,
            "grid_auto_rows": null,
            "grid_column": null,
            "grid_gap": null,
            "grid_row": null,
            "grid_template_areas": null,
            "grid_template_columns": null,
            "grid_template_rows": null,
            "height": null,
            "justify_content": null,
            "justify_items": null,
            "left": null,
            "margin": null,
            "max_height": null,
            "max_width": null,
            "min_height": null,
            "min_width": null,
            "object_fit": null,
            "object_position": null,
            "order": null,
            "overflow": null,
            "overflow_x": null,
            "overflow_y": null,
            "padding": null,
            "right": null,
            "top": null,
            "visibility": null,
            "width": null
          }
        },
        "af1c18d4aa9d4fdfa578cae49c89e381": {
          "model_module": "@jupyter-widgets/base",
          "model_module_version": "1.2.0",
          "model_name": "LayoutModel",
          "state": {
            "_model_module": "@jupyter-widgets/base",
            "_model_module_version": "1.2.0",
            "_model_name": "LayoutModel",
            "_view_count": null,
            "_view_module": "@jupyter-widgets/base",
            "_view_module_version": "1.2.0",
            "_view_name": "LayoutView",
            "align_content": null,
            "align_items": null,
            "align_self": null,
            "border": null,
            "bottom": null,
            "display": null,
            "flex": null,
            "flex_flow": null,
            "grid_area": null,
            "grid_auto_columns": null,
            "grid_auto_flow": null,
            "grid_auto_rows": null,
            "grid_column": null,
            "grid_gap": null,
            "grid_row": null,
            "grid_template_areas": null,
            "grid_template_columns": null,
            "grid_template_rows": null,
            "height": null,
            "justify_content": null,
            "justify_items": null,
            "left": null,
            "margin": null,
            "max_height": null,
            "max_width": null,
            "min_height": null,
            "min_width": null,
            "object_fit": null,
            "object_position": null,
            "order": null,
            "overflow": null,
            "overflow_x": null,
            "overflow_y": null,
            "padding": null,
            "right": null,
            "top": null,
            "visibility": null,
            "width": null
          }
        },
        "bc95e07d227849c7999d513ca174896f": {
          "model_module": "@jupyter-widgets/controls",
          "model_module_version": "1.5.0",
          "model_name": "DescriptionStyleModel",
          "state": {
            "_model_module": "@jupyter-widgets/controls",
            "_model_module_version": "1.5.0",
            "_model_name": "DescriptionStyleModel",
            "_view_count": null,
            "_view_module": "@jupyter-widgets/base",
            "_view_module_version": "1.2.0",
            "_view_name": "StyleView",
            "description_width": ""
          }
        },
        "c058eaa44b1f4c00933e8a7bc2d06481": {
          "model_module": "@jupyter-widgets/base",
          "model_module_version": "1.2.0",
          "model_name": "LayoutModel",
          "state": {
            "_model_module": "@jupyter-widgets/base",
            "_model_module_version": "1.2.0",
            "_model_name": "LayoutModel",
            "_view_count": null,
            "_view_module": "@jupyter-widgets/base",
            "_view_module_version": "1.2.0",
            "_view_name": "LayoutView",
            "align_content": null,
            "align_items": null,
            "align_self": null,
            "border": null,
            "bottom": null,
            "display": null,
            "flex": null,
            "flex_flow": null,
            "grid_area": null,
            "grid_auto_columns": null,
            "grid_auto_flow": null,
            "grid_auto_rows": null,
            "grid_column": null,
            "grid_gap": null,
            "grid_row": null,
            "grid_template_areas": null,
            "grid_template_columns": null,
            "grid_template_rows": null,
            "height": null,
            "justify_content": null,
            "justify_items": null,
            "left": null,
            "margin": null,
            "max_height": null,
            "max_width": null,
            "min_height": null,
            "min_width": null,
            "object_fit": null,
            "object_position": null,
            "order": null,
            "overflow": null,
            "overflow_x": null,
            "overflow_y": null,
            "padding": null,
            "right": null,
            "top": null,
            "visibility": null,
            "width": null
          }
        },
        "c3dfbd283d904794ae2d5e1432c714b4": {
          "model_module": "@jupyter-widgets/controls",
          "model_module_version": "1.5.0",
          "model_name": "ProgressStyleModel",
          "state": {
            "_model_module": "@jupyter-widgets/controls",
            "_model_module_version": "1.5.0",
            "_model_name": "ProgressStyleModel",
            "_view_count": null,
            "_view_module": "@jupyter-widgets/base",
            "_view_module_version": "1.2.0",
            "_view_name": "StyleView",
            "bar_color": null,
            "description_width": ""
          }
        },
        "c975373eb56746aca14b27f3d99082ba": {
          "model_module": "@jupyter-widgets/controls",
          "model_module_version": "1.5.0",
          "model_name": "HTMLModel",
          "state": {
            "_dom_classes": [],
            "_model_module": "@jupyter-widgets/controls",
            "_model_module_version": "1.5.0",
            "_model_name": "HTMLModel",
            "_view_count": null,
            "_view_module": "@jupyter-widgets/controls",
            "_view_module_version": "1.5.0",
            "_view_name": "HTMLView",
            "description": "",
            "description_tooltip": null,
            "layout": "IPY_MODEL_3ed55a82f6e64382b7cd6d7984cf3037",
            "placeholder": "​",
            "style": "IPY_MODEL_bc95e07d227849c7999d513ca174896f",
            "value": "Map: 100%"
          }
        },
        "eaa25a364b8f4bd18d650fa5cd313f63": {
          "model_module": "@jupyter-widgets/base",
          "model_module_version": "1.2.0",
          "model_name": "LayoutModel",
          "state": {
            "_model_module": "@jupyter-widgets/base",
            "_model_module_version": "1.2.0",
            "_model_name": "LayoutModel",
            "_view_count": null,
            "_view_module": "@jupyter-widgets/base",
            "_view_module_version": "1.2.0",
            "_view_name": "LayoutView",
            "align_content": null,
            "align_items": null,
            "align_self": null,
            "border": null,
            "bottom": null,
            "display": null,
            "flex": null,
            "flex_flow": null,
            "grid_area": null,
            "grid_auto_columns": null,
            "grid_auto_flow": null,
            "grid_auto_rows": null,
            "grid_column": null,
            "grid_gap": null,
            "grid_row": null,
            "grid_template_areas": null,
            "grid_template_columns": null,
            "grid_template_rows": null,
            "height": null,
            "justify_content": null,
            "justify_items": null,
            "left": null,
            "margin": null,
            "max_height": null,
            "max_width": null,
            "min_height": null,
            "min_width": null,
            "object_fit": null,
            "object_position": null,
            "order": null,
            "overflow": null,
            "overflow_x": null,
            "overflow_y": null,
            "padding": null,
            "right": null,
            "top": null,
            "visibility": null,
            "width": null
          }
        },
        "f9d3fade01334116ab91455b3eeda9aa": {
          "model_module": "@jupyter-widgets/base",
          "model_module_version": "1.2.0",
          "model_name": "LayoutModel",
          "state": {
            "_model_module": "@jupyter-widgets/base",
            "_model_module_version": "1.2.0",
            "_model_name": "LayoutModel",
            "_view_count": null,
            "_view_module": "@jupyter-widgets/base",
            "_view_module_version": "1.2.0",
            "_view_name": "LayoutView",
            "align_content": null,
            "align_items": null,
            "align_self": null,
            "border": null,
            "bottom": null,
            "display": null,
            "flex": null,
            "flex_flow": null,
            "grid_area": null,
            "grid_auto_columns": null,
            "grid_auto_flow": null,
            "grid_auto_rows": null,
            "grid_column": null,
            "grid_gap": null,
            "grid_row": null,
            "grid_template_areas": null,
            "grid_template_columns": null,
            "grid_template_rows": null,
            "height": null,
            "justify_content": null,
            "justify_items": null,
            "left": null,
            "margin": null,
            "max_height": null,
            "max_width": null,
            "min_height": null,
            "min_width": null,
            "object_fit": null,
            "object_position": null,
            "order": null,
            "overflow": null,
            "overflow_x": null,
            "overflow_y": null,
            "padding": null,
            "right": null,
            "top": null,
            "visibility": null,
            "width": null
          }
        }
      }
    }
  },
  "nbformat": 4,
  "nbformat_minor": 0
}
