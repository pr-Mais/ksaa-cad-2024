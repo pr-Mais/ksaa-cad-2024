{
  "cells": [
    {
      "cell_type": "markdown",
      "metadata": {
        "id": "pWnXDXA_ostJ"
      },
      "source": [
        "<a target=\"_blank\" href=\"https://colab.research.google.com/github/pr-Mais/arabic-reverse-dictionary/blob/main/code/mt5_training_shared_task.ipynb\">\n",
        "  <img src=\"https://colab.research.google.com/assets/colab-badge.svg\" alt=\"Open In Colab\"/>\n",
        "</a>"
      ]
    },
    {
      "cell_type": "markdown",
      "metadata": {
        "id": "Bayx6hJd62NA"
      },
      "source": [
        "# Fine-tuning MT5 for Reverse Dictionary"
      ]
    },
    {
      "cell_type": "code",
      "execution_count": 1,
      "metadata": {
        "colab": {
          "base_uri": "https://localhost:8080/"
        },
        "id": "R0wp6owho42L",
        "outputId": "b40af650-c6d6-4e94-9f03-46e76ebd98ae"
      },
      "outputs": [],
      "source": [
        "# This script is used to mount the google drive to the colab environment.\n",
        "import sys\n",
        "\n",
        "IN_COLAB = \"google.colab\" in sys.modules\n",
        "\n",
        "if IN_COLAB:\n",
        "    from google.colab import drive\n",
        "\n",
        "    drive.mount(\"/content/drive\")"
      ]
    },
    {
      "cell_type": "markdown",
      "metadata": {
        "id": "zqUvEpNQ62NC"
      },
      "source": [
        "## Requirements"
      ]
    },
    {
      "cell_type": "markdown",
      "metadata": {
        "id": "kYkhMdGxa7cg"
      },
      "source": [
        "We require the following libraries for the modeling process:"
      ]
    },
    {
      "cell_type": "code",
      "execution_count": null,
      "metadata": {
        "colab": {
          "base_uri": "https://localhost:8080/"
        },
        "id": "82oT0-Ljg1bj",
        "outputId": "009ef1cb-3b59-4abb-bd86-40fc83356972"
      },
      "outputs": [],
      "source": [
        "!pip3 install -q -U datasets==2.18.0\n",
        "!pip3 install -q -U transformers==4.39.2\n",
        "!pip3 install -q -U evaluate==0.4.1\n",
        "!pip3 install -q -U scikit-learn==1.4.1.post1\n",
        "!pip3 install -q -U torch==2.2.1\n",
        "!pip3 install -q -U tokenizers==0.15.2\n",
        "!pip3 install -q -U tqdm==4.66.2\n",
        "!pip3 install -q -U pandas==2.2.1\n",
        "!pip3 install -q -U numpy==1.26.4"
      ]
    },
    {
      "cell_type": "markdown",
      "metadata": {
        "id": "lYynFcO6a7ch"
      },
      "source": [
        "Next, we import all required libraries and modules."
      ]
    },
    {
      "cell_type": "code",
      "execution_count": 2,
      "metadata": {
        "id": "20Q60mSlg2h_"
      },
      "outputs": [
        {
          "name": "stderr",
          "output_type": "stream",
          "text": [
            "/Users/mais/Documents/pnu/arabic-reverse-dictionary/venv/lib/python3.9/site-packages/urllib3/__init__.py:35: NotOpenSSLWarning: urllib3 v2 only supports OpenSSL 1.1.1+, currently the 'ssl' module is compiled with 'LibreSSL 2.8.3'. See: https://github.com/urllib3/urllib3/issues/3020\n",
            "  warnings.warn(\n",
            "/Users/mais/Documents/pnu/arabic-reverse-dictionary/venv/lib/python3.9/site-packages/tqdm/auto.py:21: TqdmWarning: IProgress not found. Please update jupyter and ipywidgets. See https://ipywidgets.readthedocs.io/en/stable/user_install.html\n",
            "  from .autonotebook import tqdm as notebook_tqdm\n"
          ]
        }
      ],
      "source": [
        "import pandas as pd\n",
        "from tqdm import tqdm\n",
        "from typing import Literal\n",
        "from datasets import Dataset, DatasetDict\n",
        "\n",
        "import torch\n",
        "import torch.nn as nn\n",
        "import torch.nn.functional as F\n",
        "from torch.utils.data import DataLoader\n",
        "\n",
        "from transformers import (\n",
        "    AutoConfig,\n",
        "    AutoTokenizer,\n",
        "    AutoModelForSeq2SeqLM,\n",
        "    AdamW,\n",
        "    set_seed,\n",
        "    get_linear_schedule_with_warmup,\n",
        ")\n",
        "from transformers.modeling_outputs import Seq2SeqLMOutput\n",
        "\n",
        "# For reproducibility\n",
        "set_seed(123)\n",
        "#checkpoint = \"UBC-NLP/AraT5v2-base-1024\"\n",
        "checkpoint = \"google/mt5-base\"\n",
        "device = torch.device(\"cuda\" if torch.cuda.is_available() else \"cpu\")\n",
        "\n",
        "TargetEmbeddingType = Literal[\"electra\", \"bertseg\", \"bertmsa\"]\n",
        "\n",
        "# The max length of the embeddings, this should\n",
        "# match the length of the target embeddings length.\n",
        "max_length = {\n",
        "    \"electra\": 256,\n",
        "    \"bertseg\": 768,\n",
        "    \"bertmsa\": 768,\n",
        "}\n",
        "\n",
        "# Which target embedding to use as the target for the model?\n",
        "target_embedding: TargetEmbeddingType = \"electra\"\n",
        "max_length = max_length[target_embedding]"
      ]
    },
    {
      "cell_type": "markdown",
      "metadata": {
        "id": "2zUANoOaostL"
      },
      "source": [
        "### Loading and preprocessing data"
      ]
    },
    {
      "cell_type": "code",
      "execution_count": 3,
      "metadata": {
        "id": "dwTkV_Dla7ci"
      },
      "outputs": [],
      "source": [
        "if not IN_COLAB:\n",
        "  train_ds_path = \"../data/shared-task/train_with_examples.json\"\n",
        "  val_ds_path = \"../data/shared-task/dev.json\"\n",
        "  test_ds_path = \"../data/shared-task/test.json\"\n",
        "else:\n",
        "  train_ds_path = \"/content/drive/MyDrive/shared-task/train_with_examples.json\"\n",
        "  val_ds_path = \"/content/drive/MyDrive/shared-task/dev.json\"\n",
        "  test_ds_path = \"/content/drive/MyDrive/shared-task/test.json\""
      ]
    },
    {
      "cell_type": "code",
      "execution_count": 4,
      "metadata": {
        "id": "cHdKsHzEg9HJ"
      },
      "outputs": [],
      "source": [
        "train_df = pd.read_json(train_ds_path, encoding=\"utf-8\")\n",
        "val_df = pd.read_json(val_ds_path, encoding=\"utf-8\")\n",
        "test_df = pd.read_json(test_ds_path, encoding=\"utf-8\")"
      ]
    },
    {
      "cell_type": "code",
      "execution_count": 5,
      "metadata": {},
      "outputs": [
        {
          "data": {
            "text/html": [
              "<div>\n",
              "<style scoped>\n",
              "    .dataframe tbody tr th:only-of-type {\n",
              "        vertical-align: middle;\n",
              "    }\n",
              "\n",
              "    .dataframe tbody tr th {\n",
              "        vertical-align: top;\n",
              "    }\n",
              "\n",
              "    .dataframe thead th {\n",
              "        text-align: right;\n",
              "    }\n",
              "</style>\n",
              "<table border=\"1\" class=\"dataframe\">\n",
              "  <thead>\n",
              "    <tr style=\"text-align: right;\">\n",
              "      <th></th>\n",
              "      <th>id</th>\n",
              "      <th>word</th>\n",
              "      <th>pos</th>\n",
              "      <th>gloss</th>\n",
              "      <th>electra</th>\n",
              "      <th>bertseg</th>\n",
              "      <th>bertmsa</th>\n",
              "      <th>examples</th>\n",
              "    </tr>\n",
              "  </thead>\n",
              "  <tbody>\n",
              "    <tr>\n",
              "      <th>0</th>\n",
              "      <td>ar.976497</td>\n",
              "      <td>اشتط</td>\n",
              "      <td>V</td>\n",
              "      <td>اشتطَّ/ اشتطَّ على/ اشتطَّ في يشتطّ، اشْتَطِط/...</td>\n",
              "      <td>[-1.2550759315, -0.5122892857, 0.3778211772, 0...</td>\n",
              "      <td>[-0.0769249499, -0.1658652574, -0.1849669367, ...</td>\n",
              "      <td>[-0.5870065689, 0.9182425141, 0.53450250630000...</td>\n",
              "      <td>[اسم الفاعل، والصفة المشبهة، واسم المفعول، واس...</td>\n",
              "    </tr>\n",
              "    <tr>\n",
              "      <th>1</th>\n",
              "      <td>ar.974603</td>\n",
              "      <td>خصب</td>\n",
              "      <td>N</td>\n",
              "      <td>نامٍ، كثير العشب</td>\n",
              "      <td>[0.31928840280000004, -0.739033699, 0.70923948...</td>\n",
              "      <td>[-0.1230165064, -0.18066638710000002, -0.07713...</td>\n",
              "      <td>[-1.0599673986, 1.4727288485, -0.1896873564, 0...</td>\n",
              "      <td>[نبات عشبي بري زراعي يبلغ ارتفاعه 20-80 سم ساق...</td>\n",
              "    </tr>\n",
              "    <tr>\n",
              "      <th>2</th>\n",
              "      <td>ar.993088</td>\n",
              "      <td>كَفَّن</td>\n",
              "      <td>V</td>\n",
              "      <td>كَفَّن المَيِّتَ: لَفَّهُ بالكَفَن. (مُبَالَغَ...</td>\n",
              "      <td>[-0.6270618439, 0.1627743989, 0.142576322, -0....</td>\n",
              "      <td>[0.17214727400000002, -0.056175738600000004, 0...</td>\n",
              "      <td>[-0.9546464086, 1.7046545744000001, -1.1613812...</td>\n",
              "      <td>[أَيْن: اسمُ استِفهامٍ مَبْنيٌ على الفَتحِ فِي...</td>\n",
              "    </tr>\n",
              "    <tr>\n",
              "      <th>3</th>\n",
              "      <td>ar.995571</td>\n",
              "      <td>حكم</td>\n",
              "      <td>N</td>\n",
              "      <td>خبير في قوانين الألعاب يتولَّى إدارة المباراة ...</td>\n",
              "      <td>[-0.1196034774, -1.0221087933, -0.754472792100...</td>\n",
              "      <td>[0.047808088400000004, -0.1173066497, 0.378811...</td>\n",
              "      <td>[-1.3533554077, 0.9892686605000001, 0.29662185...</td>\n",
              "      <td>[الحكم في المصارعة المحترفة هو المشرف على المب...</td>\n",
              "    </tr>\n",
              "    <tr>\n",
              "      <th>4</th>\n",
              "      <td>ar.979447</td>\n",
              "      <td>كذاب</td>\n",
              "      <td>N</td>\n",
              "      <td>صيغة مبالغة من كذَبَ/ كذَبَ على: كثير الكذب .</td>\n",
              "      <td>[-0.9610854983, 0.4087179005, 0.054193534, -0....</td>\n",
              "      <td>[-0.0205224976, 0.19622370600000003, 0.3586411...</td>\n",
              "      <td>[-1.8391281366, 1.2455878258, 0.5053068399, 0....</td>\n",
              "      <td>[وردت لفظ الكذب ومشتقاتها في القرآن الكريم في ...</td>\n",
              "    </tr>\n",
              "    <tr>\n",
              "      <th>5</th>\n",
              "      <td>ar.976482</td>\n",
              "      <td>شرم</td>\n",
              "      <td>N</td>\n",
              "      <td>كلُّ شقٍّ غير نافذ في جبل أو حائط.</td>\n",
              "      <td>[-1.5637322664, -0.7942423820000001, 0.0531375...</td>\n",
              "      <td>[-0.1907260567, -0.2457073182, 0.1192496195, 0...</td>\n",
              "      <td>[-0.22798559070000002, 0.650627017, 0.25319314...</td>\n",
              "      <td>[كان الهرم والمعبد الجنائزي غير المكتمل محاطًا...</td>\n",
              "    </tr>\n",
              "    <tr>\n",
              "      <th>6</th>\n",
              "      <td>ar.995025</td>\n",
              "      <td>بَسْط</td>\n",
              "      <td>N</td>\n",
              "      <td>عدد أعلى في الكسر الاعتيادي كالعدد (2) في الكس...</td>\n",
              "      <td>[0.0865183845, -0.6144404411000001, 0.25060844...</td>\n",
              "      <td>[-0.128886193, -0.079362981, 0.0060265856, 0.0...</td>\n",
              "      <td>[-0.29289975760000003, 0.8322463036000001, 0.8...</td>\n",
              "      <td>[الكسر هو ناتج قسمة، أو العدد الذي يحصل عليه ب...</td>\n",
              "    </tr>\n",
              "    <tr>\n",
              "      <th>7</th>\n",
              "      <td>ar.978185</td>\n",
              "      <td>غنى</td>\n",
              "      <td>V</td>\n",
              "      <td>تغنَّى به؛ ترنَّم به.</td>\n",
              "      <td>[-0.3357913494, 0.0016047321, 0.7248107791, 0....</td>\n",
              "      <td>[0.1466675252, -0.2847951353, 0.1616912037, -0...</td>\n",
              "      <td>[-0.9279320240000001, 0.6518034935, -0.0197837...</td>\n",
              "      <td>[يُزْهِرُ إِزْهَارًا وَيَبْتَهِجُ ابْتِهَاجًا ...</td>\n",
              "    </tr>\n",
              "    <tr>\n",
              "      <th>8</th>\n",
              "      <td>ar.965439</td>\n",
              "      <td>بَيْعِيّ</td>\n",
              "      <td>None</td>\n",
              "      <td>منسوب إلى بيع،صفقة يتم بموجبها تبادل الشيء بال...</td>\n",
              "      <td>[-0.7022292614, -0.0916798115, 0.3377537727, -...</td>\n",
              "      <td>[0.3020823896, -0.1332699656, 0.2473745793, -0...</td>\n",
              "      <td>[-0.7345462441, 0.5775005817000001, 0.58639520...</td>\n",
              "      <td>[وتعرف عملية البيع أيضاً بأنها عملية مفاوضات ت...</td>\n",
              "    </tr>\n",
              "    <tr>\n",
              "      <th>9</th>\n",
              "      <td>ar.980856</td>\n",
              "      <td>هجن</td>\n",
              "      <td>V</td>\n",
              "      <td>كان معيبًا مرذولاً، دخَل فيه عيبٌ</td>\n",
              "      <td>[0.1757310033, -2.0628080368, -0.7020929456, -...</td>\n",
              "      <td>[0.0246690679, -0.6263778806, 0.0322731957, 0....</td>\n",
              "      <td>[-1.0371968746, 1.4605400562, 0.3261591494, -1...</td>\n",
              "      <td>[ومن شعره التأمُّلي قولُه مخاطبًا نفسه، التي ك...</td>\n",
              "    </tr>\n",
              "    <tr>\n",
              "      <th>10</th>\n",
              "      <td>ar.985423</td>\n",
              "      <td>مَبْلَغ</td>\n",
              "      <td>N</td>\n",
              "      <td>المِقدار من المال.</td>\n",
              "      <td>[-0.3292827606, 0.39913252, 0.0004174461, -0.4...</td>\n",
              "      <td>[0.2137397826, 0.1444666386, 0.038055859500000...</td>\n",
              "      <td>[-0.9611808062, 0.750834167, 0.0054160366, 1.9...</td>\n",
              "      <td>[المال: ما يمكن تملكه شرعا من كل شيء وكل ما يم...</td>\n",
              "    </tr>\n",
              "    <tr>\n",
              "      <th>11</th>\n",
              "      <td>ar.994122</td>\n",
              "      <td>نَمَس</td>\n",
              "      <td>V</td>\n",
              "      <td>نَمَسَ السِّرَّ: كَتَمَه.</td>\n",
              "      <td>[0.23454545440000002, -0.9890112877, 0.7428160...</td>\n",
              "      <td>[0.0336791985, 0.0456800833, 0.233374878800000...</td>\n",
              "      <td>[-1.0595958233, 0.6390842199, -0.0376253091000...</td>\n",
              "      <td>[اِسْتَمِعْ إِلَى العَلَايلِيّ وَهُوَ يُحَاوِر...</td>\n",
              "    </tr>\n",
              "    <tr>\n",
              "      <th>12</th>\n",
              "      <td>ar.31589</td>\n",
              "      <td>ضِرْع</td>\n",
              "      <td>noun</td>\n",
              "      <td>: مِثْل، شبيه</td>\n",
              "      <td>[0.5351757407000001, 0.4142133892, -0.58516407...</td>\n",
              "      <td>[-0.0755157769, -0.046054121100000005, 0.05118...</td>\n",
              "      <td>[-0.6425246596, 0.8554963470000001, 0.64909315...</td>\n",
              "      <td>[من الأساليب النحوية التي استخدمها العرب للتعب...</td>\n",
              "    </tr>\n",
              "    <tr>\n",
              "      <th>13</th>\n",
              "      <td>ar.981702</td>\n",
              "      <td>أَعْجَز</td>\n",
              "      <td>N</td>\n",
              "      <td>صفة مشبهة لفعل عَجِز</td>\n",
              "      <td>[-0.20199343560000002, -0.3363165259, 1.275153...</td>\n",
              "      <td>[0.4193737805, -0.27051627640000003, 0.2577535...</td>\n",
              "      <td>[-1.0580542088, 1.7043967247, 0.4525713027, -0...</td>\n",
              "      <td>[(وَيْلٌ أي: وعيد، ووبال، وشدة عذاب لِّكُلِّ ه...</td>\n",
              "    </tr>\n",
              "    <tr>\n",
              "      <th>14</th>\n",
              "      <td>ar.991382</td>\n",
              "      <td>عَقُر</td>\n",
              "      <td>V</td>\n",
              "      <td>عَقُرَ الرَّجُلُ: عَقِمَ.</td>\n",
              "      <td>[-0.09761250760000001, 0.1516156048, -0.850367...</td>\n",
              "      <td>[0.014311508300000001, -0.2562557757, 0.170600...</td>\n",
              "      <td>[-0.6549986005, 1.4283555746, 0.6027294397, -0...</td>\n",
              "      <td>[فسكت حتى انتهى إليهم، فإذا هم هم، قال: ويحك، ...</td>\n",
              "    </tr>\n",
              "    <tr>\n",
              "      <th>15</th>\n",
              "      <td>ar.997246</td>\n",
              "      <td>كل</td>\n",
              "      <td>N</td>\n",
              "      <td>تقع توكيدًا .</td>\n",
              "      <td>[-0.1770234555, -0.08828534190000001, 0.286350...</td>\n",
              "      <td>[0.135163784, 0.3406707346, 0.0160149653, -0.0...</td>\n",
              "      <td>[-1.3287193775, 0.8257803917000001, 0.40940859...</td>\n",
              "      <td>[https://www.wikiwand.com/ar/%D8%A7%D9%84%D8%B...</td>\n",
              "    </tr>\n",
              "    <tr>\n",
              "      <th>16</th>\n",
              "      <td>ar.962794</td>\n",
              "      <td>اِنْتِقَامِيّ</td>\n",
              "      <td>None</td>\n",
              "      <td>منسوب إلى انتقام،مُعاقَبَة.</td>\n",
              "      <td>[0.10615049300000001, -0.3226651251, -0.122446...</td>\n",
              "      <td>[0.32287821170000003, -0.47731068730000004, 0....</td>\n",
              "      <td>[-1.5743285418, 0.3623017073, 0.06358094510000...</td>\n",
              "      <td>[من الأساليب النحوية التي استخدمها العرب للتعب...</td>\n",
              "    </tr>\n",
              "    <tr>\n",
              "      <th>17</th>\n",
              "      <td>ar.980276</td>\n",
              "      <td>نتف</td>\n",
              "      <td>V</td>\n",
              "      <td>نزَعه نتْشًا</td>\n",
              "      <td>[-0.8945412636000001, -0.9821629524000001, 1.1...</td>\n",
              "      <td>[0.0665784031, -0.3125984967, -0.0941766128, -...</td>\n",
              "      <td>[-0.1750735044, 0.4285810888, 0.2613556683, -0...</td>\n",
              "      <td>[وَلاَ تَنكِحُواْ مَا نَكَحَ آبَاؤُكُم مِّنَ ا...</td>\n",
              "    </tr>\n",
              "    <tr>\n",
              "      <th>18</th>\n",
              "      <td>ar.995098</td>\n",
              "      <td>تتابُع</td>\n",
              "      <td>N</td>\n",
              "      <td>الانتقال المفاجئ إلى جملة ثانية قبل أن تتم الج...</td>\n",
              "      <td>[-0.1908252239, -1.4479956627, 0.0291009378, 0...</td>\n",
              "      <td>[0.2517556548, -0.0919228867, 0.19665940110000...</td>\n",
              "      <td>[-0.9202266932000001, 0.24794842300000003, 0.2...</td>\n",
              "      <td>[حَتَّى تكون حرف ابتداء، أي تبدأ بعدها جملة جد...</td>\n",
              "    </tr>\n",
              "    <tr>\n",
              "      <th>19</th>\n",
              "      <td>ar.990079</td>\n",
              "      <td>شَدَخ</td>\n",
              "      <td>V</td>\n",
              "      <td>شَدَخَ الشَّيْءَ: شَجَّه.</td>\n",
              "      <td>[-0.1059913412, -0.0560769364, -0.6304917932, ...</td>\n",
              "      <td>[-0.2929496169, 0.0319839418, 0.2974893451, -0...</td>\n",
              "      <td>[-0.820346117, 0.3090590835, 1.0600595474, 0.2...</td>\n",
              "      <td>[لطالما كان الشعر العربي في جميع عصوره بَراحاً...</td>\n",
              "    </tr>\n",
              "  </tbody>\n",
              "</table>\n",
              "</div>"
            ],
            "text/plain": [
              "           id           word   pos  \\\n",
              "0   ar.976497           اشتط     V   \n",
              "1   ar.974603            خصب     N   \n",
              "2   ar.993088         كَفَّن     V   \n",
              "3   ar.995571            حكم     N   \n",
              "4   ar.979447           كذاب     N   \n",
              "5   ar.976482            شرم     N   \n",
              "6   ar.995025          بَسْط     N   \n",
              "7   ar.978185            غنى     V   \n",
              "8   ar.965439       بَيْعِيّ  None   \n",
              "9   ar.980856            هجن     V   \n",
              "10  ar.985423        مَبْلَغ     N   \n",
              "11  ar.994122          نَمَس     V   \n",
              "12   ar.31589          ضِرْع  noun   \n",
              "13  ar.981702        أَعْجَز     N   \n",
              "14  ar.991382          عَقُر     V   \n",
              "15  ar.997246             كل     N   \n",
              "16  ar.962794  اِنْتِقَامِيّ  None   \n",
              "17  ar.980276            نتف     V   \n",
              "18  ar.995098         تتابُع     N   \n",
              "19  ar.990079          شَدَخ     V   \n",
              "\n",
              "                                                gloss  \\\n",
              "0   اشتطَّ/ اشتطَّ على/ اشتطَّ في يشتطّ، اشْتَطِط/...   \n",
              "1                                   نامٍ، كثير العشب    \n",
              "2   كَفَّن المَيِّتَ: لَفَّهُ بالكَفَن. (مُبَالَغَ...   \n",
              "3   خبير في قوانين الألعاب يتولَّى إدارة المباراة ...   \n",
              "4       صيغة مبالغة من كذَبَ/ كذَبَ على: كثير الكذب .   \n",
              "5                  كلُّ شقٍّ غير نافذ في جبل أو حائط.   \n",
              "6   عدد أعلى في الكسر الاعتيادي كالعدد (2) في الكس...   \n",
              "7                               تغنَّى به؛ ترنَّم به.   \n",
              "8   منسوب إلى بيع،صفقة يتم بموجبها تبادل الشيء بال...   \n",
              "9                   كان معيبًا مرذولاً، دخَل فيه عيبٌ   \n",
              "10                                 المِقدار من المال.   \n",
              "11                          نَمَسَ السِّرَّ: كَتَمَه.   \n",
              "12                                      : مِثْل، شبيه   \n",
              "13                               صفة مشبهة لفعل عَجِز   \n",
              "14                          عَقُرَ الرَّجُلُ: عَقِمَ.   \n",
              "15                                      تقع توكيدًا .   \n",
              "16                        منسوب إلى انتقام،مُعاقَبَة.   \n",
              "17                                       نزَعه نتْشًا   \n",
              "18  الانتقال المفاجئ إلى جملة ثانية قبل أن تتم الج...   \n",
              "19                          شَدَخَ الشَّيْءَ: شَجَّه.   \n",
              "\n",
              "                                              electra  \\\n",
              "0   [-1.2550759315, -0.5122892857, 0.3778211772, 0...   \n",
              "1   [0.31928840280000004, -0.739033699, 0.70923948...   \n",
              "2   [-0.6270618439, 0.1627743989, 0.142576322, -0....   \n",
              "3   [-0.1196034774, -1.0221087933, -0.754472792100...   \n",
              "4   [-0.9610854983, 0.4087179005, 0.054193534, -0....   \n",
              "5   [-1.5637322664, -0.7942423820000001, 0.0531375...   \n",
              "6   [0.0865183845, -0.6144404411000001, 0.25060844...   \n",
              "7   [-0.3357913494, 0.0016047321, 0.7248107791, 0....   \n",
              "8   [-0.7022292614, -0.0916798115, 0.3377537727, -...   \n",
              "9   [0.1757310033, -2.0628080368, -0.7020929456, -...   \n",
              "10  [-0.3292827606, 0.39913252, 0.0004174461, -0.4...   \n",
              "11  [0.23454545440000002, -0.9890112877, 0.7428160...   \n",
              "12  [0.5351757407000001, 0.4142133892, -0.58516407...   \n",
              "13  [-0.20199343560000002, -0.3363165259, 1.275153...   \n",
              "14  [-0.09761250760000001, 0.1516156048, -0.850367...   \n",
              "15  [-0.1770234555, -0.08828534190000001, 0.286350...   \n",
              "16  [0.10615049300000001, -0.3226651251, -0.122446...   \n",
              "17  [-0.8945412636000001, -0.9821629524000001, 1.1...   \n",
              "18  [-0.1908252239, -1.4479956627, 0.0291009378, 0...   \n",
              "19  [-0.1059913412, -0.0560769364, -0.6304917932, ...   \n",
              "\n",
              "                                              bertseg  \\\n",
              "0   [-0.0769249499, -0.1658652574, -0.1849669367, ...   \n",
              "1   [-0.1230165064, -0.18066638710000002, -0.07713...   \n",
              "2   [0.17214727400000002, -0.056175738600000004, 0...   \n",
              "3   [0.047808088400000004, -0.1173066497, 0.378811...   \n",
              "4   [-0.0205224976, 0.19622370600000003, 0.3586411...   \n",
              "5   [-0.1907260567, -0.2457073182, 0.1192496195, 0...   \n",
              "6   [-0.128886193, -0.079362981, 0.0060265856, 0.0...   \n",
              "7   [0.1466675252, -0.2847951353, 0.1616912037, -0...   \n",
              "8   [0.3020823896, -0.1332699656, 0.2473745793, -0...   \n",
              "9   [0.0246690679, -0.6263778806, 0.0322731957, 0....   \n",
              "10  [0.2137397826, 0.1444666386, 0.038055859500000...   \n",
              "11  [0.0336791985, 0.0456800833, 0.233374878800000...   \n",
              "12  [-0.0755157769, -0.046054121100000005, 0.05118...   \n",
              "13  [0.4193737805, -0.27051627640000003, 0.2577535...   \n",
              "14  [0.014311508300000001, -0.2562557757, 0.170600...   \n",
              "15  [0.135163784, 0.3406707346, 0.0160149653, -0.0...   \n",
              "16  [0.32287821170000003, -0.47731068730000004, 0....   \n",
              "17  [0.0665784031, -0.3125984967, -0.0941766128, -...   \n",
              "18  [0.2517556548, -0.0919228867, 0.19665940110000...   \n",
              "19  [-0.2929496169, 0.0319839418, 0.2974893451, -0...   \n",
              "\n",
              "                                              bertmsa  \\\n",
              "0   [-0.5870065689, 0.9182425141, 0.53450250630000...   \n",
              "1   [-1.0599673986, 1.4727288485, -0.1896873564, 0...   \n",
              "2   [-0.9546464086, 1.7046545744000001, -1.1613812...   \n",
              "3   [-1.3533554077, 0.9892686605000001, 0.29662185...   \n",
              "4   [-1.8391281366, 1.2455878258, 0.5053068399, 0....   \n",
              "5   [-0.22798559070000002, 0.650627017, 0.25319314...   \n",
              "6   [-0.29289975760000003, 0.8322463036000001, 0.8...   \n",
              "7   [-0.9279320240000001, 0.6518034935, -0.0197837...   \n",
              "8   [-0.7345462441, 0.5775005817000001, 0.58639520...   \n",
              "9   [-1.0371968746, 1.4605400562, 0.3261591494, -1...   \n",
              "10  [-0.9611808062, 0.750834167, 0.0054160366, 1.9...   \n",
              "11  [-1.0595958233, 0.6390842199, -0.0376253091000...   \n",
              "12  [-0.6425246596, 0.8554963470000001, 0.64909315...   \n",
              "13  [-1.0580542088, 1.7043967247, 0.4525713027, -0...   \n",
              "14  [-0.6549986005, 1.4283555746, 0.6027294397, -0...   \n",
              "15  [-1.3287193775, 0.8257803917000001, 0.40940859...   \n",
              "16  [-1.5743285418, 0.3623017073, 0.06358094510000...   \n",
              "17  [-0.1750735044, 0.4285810888, 0.2613556683, -0...   \n",
              "18  [-0.9202266932000001, 0.24794842300000003, 0.2...   \n",
              "19  [-0.820346117, 0.3090590835, 1.0600595474, 0.2...   \n",
              "\n",
              "                                             examples  \n",
              "0   [اسم الفاعل، والصفة المشبهة، واسم المفعول، واس...  \n",
              "1   [نبات عشبي بري زراعي يبلغ ارتفاعه 20-80 سم ساق...  \n",
              "2   [أَيْن: اسمُ استِفهامٍ مَبْنيٌ على الفَتحِ فِي...  \n",
              "3   [الحكم في المصارعة المحترفة هو المشرف على المب...  \n",
              "4   [وردت لفظ الكذب ومشتقاتها في القرآن الكريم في ...  \n",
              "5   [كان الهرم والمعبد الجنائزي غير المكتمل محاطًا...  \n",
              "6   [الكسر هو ناتج قسمة، أو العدد الذي يحصل عليه ب...  \n",
              "7   [يُزْهِرُ إِزْهَارًا وَيَبْتَهِجُ ابْتِهَاجًا ...  \n",
              "8   [وتعرف عملية البيع أيضاً بأنها عملية مفاوضات ت...  \n",
              "9   [ومن شعره التأمُّلي قولُه مخاطبًا نفسه، التي ك...  \n",
              "10  [المال: ما يمكن تملكه شرعا من كل شيء وكل ما يم...  \n",
              "11  [اِسْتَمِعْ إِلَى العَلَايلِيّ وَهُوَ يُحَاوِر...  \n",
              "12  [من الأساليب النحوية التي استخدمها العرب للتعب...  \n",
              "13  [(وَيْلٌ أي: وعيد، ووبال، وشدة عذاب لِّكُلِّ ه...  \n",
              "14  [فسكت حتى انتهى إليهم، فإذا هم هم، قال: ويحك، ...  \n",
              "15  [https://www.wikiwand.com/ar/%D8%A7%D9%84%D8%B...  \n",
              "16  [من الأساليب النحوية التي استخدمها العرب للتعب...  \n",
              "17  [وَلاَ تَنكِحُواْ مَا نَكَحَ آبَاؤُكُم مِّنَ ا...  \n",
              "18  [حَتَّى تكون حرف ابتداء، أي تبدأ بعدها جملة جد...  \n",
              "19  [لطالما كان الشعر العربي في جميع عصوره بَراحاً...  "
            ]
          },
          "execution_count": 5,
          "metadata": {},
          "output_type": "execute_result"
        }
      ],
      "source": [
        "train_df.head(20)"
      ]
    },
    {
      "cell_type": "code",
      "execution_count": 6,
      "metadata": {
        "colab": {
          "base_uri": "https://localhost:8080/"
        },
        "id": "KxVFVcXVa7ci",
        "outputId": "2dab5914-d8f6-49b2-fe2a-3826afbbce88"
      },
      "outputs": [
        {
          "name": "stdout",
          "output_type": "stream",
          "text": [
            "Train dataset has 31372 examples, and the following columns:\n",
            "['id', 'word', 'pos', 'gloss', 'electra', 'bertseg', 'bertmsa', 'examples']\n",
            "\n",
            "Validation dataset has 3921 examples, and the following columns:\n",
            "['id', 'word', 'pos', 'gloss', 'electra', 'bertseg', 'bertmsa']\n",
            "\n",
            "Test dataset has 3922 examples, and the following columns:\n",
            "['id', 'word', 'pos', 'gloss']\n"
          ]
        }
      ],
      "source": [
        "# Printing out some information about the datasets\n",
        "print(f\"Train dataset has {len(train_df)} examples, and the following columns:\")\n",
        "print(train_df.columns.tolist())\n",
        "print()\n",
        "print(f\"Validation dataset has {len(val_df)} examples, and the following columns:\")\n",
        "print(val_df.columns.tolist())\n",
        "print()\n",
        "print(f\"Test dataset has {len(test_df)} examples, and the following columns:\")\n",
        "print(test_df.columns.tolist())"
      ]
    },
    {
      "cell_type": "code",
      "execution_count": 7,
      "metadata": {
        "id": "E2bEuKvxostL"
      },
      "outputs": [],
      "source": [
        "# Merge train and validation into one dict with keys `train` and `val`.\n",
        "# This is for training and development, test set has no targets provided.\n",
        "train_val_dict = {\n",
        "    \"train\": train_df.to_dict(\"records\"),\n",
        "    \"val\": val_df.to_dict(\"records\"),\n",
        "}\n",
        "# Convert to HF dataset\n",
        "train_ds = Dataset.from_pandas(train_df, split=\"train\")\n",
        "val_ds = Dataset.from_pandas(val_df, split=\"validation\")\n",
        "test_ds = Dataset.from_pandas(test_df, split=\"test\")\n",
        "dataset = DatasetDict({\"train\": train_ds, \"val\": val_ds})"
      ]
    },
    {
      "cell_type": "markdown",
      "metadata": {
        "id": "53Tg8Mrpa7cj"
      },
      "source": [
        "In the next steps, we prepare the data for modeling.\n",
        "\n",
        "The features we care about from the dataset are the `gloss` and `examples`, and the target is either `electra`, `bertseg` or `bertmsa`. This means we will train 3 different models on each target.\n",
        "\n",
        "In the preprocessing step, we will tokenize the data and convert it to a format that can be fed into the model. This includes merging the `gloss` and `examples` into a single string, tokenizing the string, and converting the tokens to token ids."
      ]
    },
    {
      "cell_type": "code",
      "execution_count": 8,
      "metadata": {
        "colab": {
          "base_uri": "https://localhost:8080/",
          "height": 81,
          "referenced_widgets": [
            "26ba5ae1d74d4d9f904cf9f85b9a4532",
            "19072179cb7c4da69f562997c10bb65a",
            "6ee0dd96be584533982f1a7242ee5652",
            "4728edae205d46129392ba36569c67ac",
            "c058eaa44b1f4c00933e8a7bc2d06481",
            "f9d3fade01334116ab91455b3eeda9aa",
            "246ebff1097b4f1e8cc4e62fb96eb3ff",
            "4d8c83a1f819427d932ba008b9cd8427",
            "c3dfbd283d904794ae2d5e1432c714b4",
            "af1c18d4aa9d4fdfa578cae49c89e381",
            "2d1c70762ed84c99b18f6c2c1f2d544d",
            "6ce837c6fdec4306bf09c05f16bc81bf",
            "c975373eb56746aca14b27f3d99082ba",
            "80fd294bca664f7fbab6dd24ff3b01d2",
            "0c1f04cb64084cb08360130be2e9e60e",
            "eaa25a364b8f4bd18d650fa5cd313f63",
            "3ed55a82f6e64382b7cd6d7984cf3037",
            "bc95e07d227849c7999d513ca174896f",
            "9dde44bf7efa44e4a5d7d1a12254cff8",
            "00e65676538241959934a9af02640057",
            "36a190e52b0a4ce5b9ea73aa58129edf",
            "11ff5f5516b64ad08319e5da149886fd"
          ]
        },
        "id": "3r_FiV7KostM",
        "outputId": "4d789cbf-09a5-44b9-93aa-a5477ba2bf44"
      },
      "outputs": [
        {
          "name": "stderr",
          "output_type": "stream",
          "text": [
            "/Users/mais/Documents/pnu/arabic-reverse-dictionary/venv/lib/python3.9/site-packages/transformers/convert_slow_tokenizer.py:550: UserWarning: The sentencepiece tokenizer that you are converting to a fast tokenizer uses the byte fallback option which is not implemented in the fast tokenizers. In practice this means that the fast version of the tokenizer can produce unknown tokens whereas the sentencepiece version would have converted these unknown tokens into a sequence of byte tokens matching the original piece of text.\n",
            "  warnings.warn(\n",
            "Map: 100%|██████████| 31372/31372 [00:47<00:00, 659.81 examples/s]\n",
            "Map: 100%|██████████| 3921/3921 [00:06<00:00, 649.84 examples/s]\n",
            "Map: 100%|██████████| 3922/3922 [00:04<00:00, 894.39 examples/s]\n"
          ]
        }
      ],
      "source": [
        "# Tokenization step\n",
        "tokenizer = AutoTokenizer.from_pretrained(checkpoint, legacy=False)\n",
        "\n",
        "padding = \"max_length\"\n",
        "max_input_length = 256\n",
        "\n",
        "\n",
        "def preprocess_function(items):\n",
        "    # The inputs are the glosses + examples\n",
        "    # if \"examples\" in items:\n",
        "    #     glosses = [\n",
        "    #         f\"{gloss}. {example[0]}، {example[1]}\"\n",
        "    #         for gloss, example in zip(items[\"gloss\"], items[\"examples\"])\n",
        "    #     ]\n",
        "    # else:\n",
        "    glosses = items[\"gloss\"]\n",
        "\n",
        "    model_inputs = tokenizer(\n",
        "        glosses,\n",
        "        max_length=max_input_length,\n",
        "        padding=padding,\n",
        "        truncation=True,\n",
        "        return_tensors=\"pt\",\n",
        "    )\n",
        "\n",
        "    # Adding the 3 types of target embeddings, if they are available.\n",
        "    if \"electra\" in items:\n",
        "        model_inputs[\"electra\"] = items[\"electra\"]  # Electra embeddings\n",
        "    if \"bertseg\" in items:\n",
        "        model_inputs[\"bertseg\"] = items[\"bertseg\"]  # BERTseg embeddings\n",
        "    if \"bertmsa\" in items:\n",
        "        model_inputs[\"bertmsa\"] = items[\"bertmsa\"]  # BERTmsa embeddings\n",
        "\n",
        "    targets = [ex for ex in items[\"word\"]]\n",
        "    # encode the words\n",
        "    labels = tokenizer(\n",
        "        targets,\n",
        "        max_length=max_length,\n",
        "        padding=padding,\n",
        "        truncation=True,\n",
        "        return_tensors=\"pt\",\n",
        "    ).input_ids\n",
        "\n",
        "    # important: we need to replace the index of the padding tokens by -100\n",
        "    # such that they are not taken into account by the CrossEntropyLoss\n",
        "    labels_with_ignore_index = []\n",
        "    for labels_example in labels:\n",
        "        labels_example = [label if label != 0 else -100 for label in labels_example]\n",
        "        labels_with_ignore_index.append(labels_example)\n",
        "\n",
        "    model_inputs[\"labels\"] = labels_with_ignore_index\n",
        "\n",
        "    return model_inputs\n",
        "\n",
        "\n",
        "# Final mapping of the dataset\n",
        "dataset = dataset.map(preprocess_function, batched=True)\n",
        "test_ds = test_ds.map(preprocess_function, batched=True)"
      ]
    },
    {
      "cell_type": "markdown",
      "metadata": {
        "id": "iGzDM1uUa7cj"
      },
      "source": [
        "Finally, data splits are converted into PyTorch `DataLoader` objects for training."
      ]
    },
    {
      "cell_type": "code",
      "execution_count": 9,
      "metadata": {
        "id": "vtIrY-3Ng-nB"
      },
      "outputs": [],
      "source": [
        "dataset.set_format(\n",
        "    type=\"torch\",\n",
        "    columns=[\"id\", \"input_ids\", \"attention_mask\", \"labels\", \"electra\", \"bertseg\", \"bertmsa\", \"word\"],\n",
        "    output_all_columns=False,\n",
        ")\n",
        "train_dataloader = DataLoader(dataset[\"train\"], shuffle=True, batch_size=8)\n",
        "valid_dataloader = DataLoader(dataset[\"val\"], batch_size=4)\n",
        "\n",
        "test_ds.set_format(\n",
        "    type=\"torch\",\n",
        "    columns=[\"input_ids\", \"attention_mask\", \"id\"],\n",
        "    output_all_columns=False,\n",
        ")\n",
        "test_dataloader = DataLoader(test_ds, batch_size=4)"
      ]
    },
    {
      "cell_type": "code",
      "execution_count": 10,
      "metadata": {},
      "outputs": [
        {
          "data": {
            "text/plain": [
              "Dataset({\n",
              "    features: ['id', 'word', 'pos', 'gloss', 'input_ids', 'attention_mask', 'labels'],\n",
              "    num_rows: 3922\n",
              "})"
            ]
          },
          "execution_count": 10,
          "metadata": {},
          "output_type": "execute_result"
        }
      ],
      "source": [
        "test_dataloader.dataset"
      ]
    },
    {
      "cell_type": "code",
      "execution_count": 11,
      "metadata": {
        "colab": {
          "base_uri": "https://localhost:8080/"
        },
        "id": "gGjAs0ZFostM",
        "outputId": "f967580c-fb31-49ca-e750-57d5645bce97"
      },
      "outputs": [
        {
          "name": "stdout",
          "output_type": "stream",
          "text": [
            "Electra embeddings shape: 1, 256\n",
            "BERTseg embeddings shape: 1, 768\n",
            "BERTmsa embeddings shape: 1, 768\n",
            "\n"
          ]
        }
      ],
      "source": [
        "print(\n",
        "    f\"Electra embeddings shape: 1, {dataset['train']['electra'].shape[1]}\\n\"\n",
        "    f\"BERTseg embeddings shape: 1, {dataset['train']['bertseg'].shape[1]}\\n\"\n",
        "    f\"BERTmsa embeddings shape: 1, {dataset['train']['bertmsa'].shape[1]}\\n\"\n",
        ")"
      ]
    },
    {
      "cell_type": "markdown",
      "metadata": {
        "id": "XmuxWaOTostM"
      },
      "source": [
        "## Training"
      ]
    },
    {
      "cell_type": "markdown",
      "metadata": {
        "id": "eYwusIiHa7ck"
      },
      "source": [
        "The training pipeline is prepared to accept 3 types of targets: `electra`, `bertseg`, and `bertmsa`. The training process is the same for all targets."
      ]
    },
    {
      "cell_type": "code",
      "execution_count": null,
      "metadata": {
        "id": "FVdI5YLNostM"
      },
      "outputs": [],
      "source": [
        "# Loss functions\n",
        "mse_loss = nn.MSELoss()\n",
        "\n",
        "\n",
        "def train(\n",
        "    dataloader,\n",
        "    optimizer_,\n",
        "    scheduler_,\n",
        "    device_,\n",
        "    target: TargetEmbeddingType = \"electra\",\n",
        "    validate=False,\n",
        "):\n",
        "    # Use global variable for model.\n",
        "    global model\n",
        "    # Tracking variables.\n",
        "    predictions = []\n",
        "    ground_truth = []\n",
        "    # Total loss for this epoch.\n",
        "    total_loss = 0\n",
        "    if not validate:\n",
        "        model.train()\n",
        "    if validate:\n",
        "        model.eval()\n",
        "\n",
        "    # For each batch of training data...\n",
        "    for batch in tqdm(dataloader):\n",
        "        ground_truth += batch[target].numpy().tolist()\n",
        "        inputs = {\n",
        "            k: v.to(device_)\n",
        "            for k, v in batch.items()\n",
        "            if k in [\"input_ids\", \"attention_mask\"]\n",
        "        }\n",
        "        labels = batch[\"labels\"].to(device)\n",
        "        if not validate:\n",
        "            model.zero_grad()\n",
        "        embeddings = model(**inputs, labels=labels, return_dict=True)\n",
        "        # Loss is calculated on target embeddings, outside the model.\n",
        "        loss = mse_loss(embeddings, batch[target].to(device_))\n",
        "        total_loss += loss.item()\n",
        "        if not validate:\n",
        "            loss.backward()\n",
        "            torch.nn.utils.clip_grad_norm_(model.parameters(), 1.0)\n",
        "            optimizer_.step()\n",
        "            scheduler_.step()\n",
        "        predictions += embeddings.tolist()\n",
        "\n",
        "    # Calculate the average loss over the training data.\n",
        "    avg_epoch_loss = total_loss / len(dataloader)\n",
        "\n",
        "    # Return all true labels and prediction for future evaluations.\n",
        "    return ground_truth, predictions, avg_epoch_loss"
      ]
    },
    {
      "cell_type": "code",
      "execution_count": 12,
      "metadata": {
        "id": "aRlFv2-rgz2c"
      },
      "outputs": [],
      "source": [
        "class RevDictModel(nn.Module):\n",
        "    def __init__(self, max_length: int, checkpoint: str):\n",
        "        super().__init__()\n",
        "        model_config = AutoConfig.from_pretrained(checkpoint)\n",
        "        self.base_model = AutoModelForSeq2SeqLM.from_config(model_config)\n",
        "\n",
        "        print(max_length)\n",
        "\n",
        "        # Redefining the linear layer to match the target embedding size (max_length)\n",
        "        self.linear = nn.Linear(self.base_model.config.hidden_size, max_length)\n",
        "\n",
        "    def forward(self, input_ids, attention_mask, **kwargs):\n",
        "        # Only using the encoder part to generate embeddings\n",
        "        outputs = self.base_model.encoder(\n",
        "            input_ids=input_ids,\n",
        "            attention_mask=attention_mask,\n",
        "            return_dict=True,\n",
        "        )\n",
        "        pooled_emb = (outputs.last_hidden_state * attention_mask.unsqueeze(2)).sum(\n",
        "            dim=1\n",
        "        ) / attention_mask.sum(dim=1).unsqueeze(1)\n",
        "        embedding = self.linear(pooled_emb)\n",
        "        return embedding\n",
        "\n",
        "    def save(self, file):\n",
        "        torch.save(self, file)\n",
        "\n",
        "    @staticmethod\n",
        "    def load(file):\n",
        "        return torch.load(file, map_location=device)"
      ]
    },
    {
      "cell_type": "markdown",
      "metadata": {
        "id": "mlbDiMz5a7ck"
      },
      "source": [
        "### Model training per target"
      ]
    },
    {
      "cell_type": "code",
      "execution_count": null,
      "metadata": {
        "id": "k-ZbUM0ma7ck"
      },
      "outputs": [],
      "source": [
        "# Hyperparameters.\n",
        "epochs = 1\n",
        "lr = 3e-5"
      ]
    },
    {
      "cell_type": "code",
      "execution_count": null,
      "metadata": {
        "colab": {
          "base_uri": "https://localhost:8080/"
        },
        "id": "y0fFqQh4hGxq",
        "outputId": "fc6b3b73-9637-4e8d-a6b8-7fec70684776"
      },
      "outputs": [],
      "source": [
        "model = RevDictModel(max_length=max_length, checkpoint=checkpoint)\n",
        "model.to(device)"
      ]
    },
    {
      "cell_type": "code",
      "execution_count": null,
      "metadata": {
        "colab": {
          "base_uri": "https://localhost:8080/"
        },
        "id": "z2o9ySFKostM",
        "outputId": "8360c81f-0b97-4ed6-c0b6-5698c9c83cae"
      },
      "outputs": [],
      "source": [
        "# Total number of training steps is number of batches * number of epochs.\n",
        "# `train_dataloader` contains batched data so `len(train_dataloader)` gives\n",
        "# us the number of batches.\n",
        "total_steps = len(train_dataloader) * epochs\n",
        "\n",
        "optimizer = AdamW(\n",
        "    model.parameters(),\n",
        "    lr=lr,\n",
        "    eps=1e-8,\n",
        ")\n",
        "\n",
        "scheduler = get_linear_schedule_with_warmup(\n",
        "    optimizer,\n",
        "    num_warmup_steps=0,\n",
        "    num_training_steps=total_steps,\n",
        ")\n",
        "\n",
        "# Store the average loss after each epoch so we can plot them.\n",
        "all_loss = {\"train_loss\": [], \"val_loss\": []}\n",
        "\n",
        "# Loop through each epoch.\n",
        "for epoch in range(epochs):\n",
        "    print(f\"Epoch {epoch}\")\n",
        "    train_labels, train_predict, train_loss = train(\n",
        "        train_dataloader, optimizer, scheduler, device, target=target_embedding\n",
        "    )\n",
        "    valid_labels, valid_predict, val_loss = train(\n",
        "        valid_dataloader, optimizer, scheduler, device, validate=True, target=target_embedding\n",
        "    )\n",
        "\n",
        "    # Print loss and accuracy values to see how training evolves.\n",
        "    print(\"  train_loss: %.5f - val_loss: %.5f\" % (train_loss, val_loss))\n",
        "    print()\n",
        "\n",
        "    # Store the loss value for plotting the learning curve.\n",
        "    all_loss[\"train_loss\"].append(train_loss)\n",
        "    all_loss[\"val_loss\"].append(val_loss)\n",
        "\n",
        "# Plot loss curves.\n",
        "# plot_dict(all_loss, use_xlabel=\"Epochs\", use_ylabel=\"Value\", use_linestyles=[\"-\", \"--\"])"
      ]
    },
    {
      "cell_type": "markdown",
      "metadata": {
        "id": "NEux-8l9a7ck"
      },
      "source": [
        "Save the trained model."
      ]
    },
    {
      "cell_type": "code",
      "execution_count": null,
      "metadata": {
        "id": "L1eVf-8BhJg1"
      },
      "outputs": [],
      "source": [
        "save_directory = f\"/content/drive/MyDrive/arat5-v0/mt5_{target_embedding}_checkpoint_0\"\n",
        "model.save(save_directory)"
      ]
    },
    {
      "cell_type": "markdown",
      "metadata": {
        "id": "oERYxvwNhNgP"
      },
      "source": [
        "## Evaluation"
      ]
    },
    {
      "cell_type": "code",
      "execution_count": 9,
      "metadata": {
        "id": "fuOHMoTAhKma"
      },
      "outputs": [],
      "source": [
        "# re-load the model\n",
        "model = RevDictModel.load(f\"../checkpoints/mt5_{target_embedding}_checkpoint_1\")"
      ]
    },
    {
      "cell_type": "code",
      "execution_count": null,
      "metadata": {
        "colab": {
          "base_uri": "https://localhost:8080/"
        },
        "id": "8SCw9IfqWuyy",
        "outputId": "b1828d27-a727-453c-d9b5-dbc1146e6310"
      },
      "outputs": [],
      "source": [
        "predictions = []\n",
        "targets = []\n",
        "for sample in tqdm(valid_dataloader):\n",
        "    with torch.no_grad():\n",
        "        inputs = {\n",
        "            k: v.to(device)\n",
        "            for k, v in sample.items()\n",
        "            if k in [\"input_ids\", \"attention_mask\"]\n",
        "        }\n",
        "        outputs = model(**inputs)\n",
        "        predictions += outputs\n",
        "        targets += sample[target_embedding]"
      ]
    },
    {
      "cell_type": "markdown",
      "metadata": {
        "id": "veOhKU9uostN"
      },
      "source": [
        "### Cosine Similarity\n",
        "\n",
        "Here we calculate the similarity between predictions & targets."
      ]
    },
    {
      "cell_type": "code",
      "execution_count": null,
      "metadata": {
        "id": "0rVY89ArostN"
      },
      "outputs": [],
      "source": [
        "scores = []\n",
        "for pred, target in zip(predictions, targets):\n",
        "    score = F.cosine_similarity(pred.to(device), target.to(device), dim=0)\n",
        "    scores.append(score.item())"
      ]
    },
    {
      "cell_type": "code",
      "execution_count": null,
      "metadata": {
        "colab": {
          "base_uri": "https://localhost:8080/"
        },
        "id": "MuZissSEostN",
        "outputId": "77c73141-db01-4b6e-de60-2b111bc035b4"
      },
      "outputs": [],
      "source": [
        "# Get the mean score\n",
        "mean = sum(scores) / len(scores)\n",
        "mean"
      ]
    },
    {
      "cell_type": "markdown",
      "metadata": {},
      "source": [
        "## Export the results for submission"
      ]
    },
    {
      "cell_type": "code",
      "execution_count": 13,
      "metadata": {},
      "outputs": [],
      "source": [
        "model_electra = RevDictModel.load(f\"../checkpoints/mt5_electra_checkpoint_0\")\n",
        "model_bertseg = RevDictModel.load(f\"../checkpoints/mt5_bertseg_checkpoint_0\")\n",
        "model_bertmsa = RevDictModel.load(f\"../checkpoints/mt5_bertmsa_checkpoint_0\")"
      ]
    },
    {
      "cell_type": "code",
      "execution_count": 22,
      "metadata": {},
      "outputs": [
        {
          "name": "stderr",
          "output_type": "stream",
          "text": [
            "100%|██████████| 981/981 [14:12<00:00,  1.15it/s]\n"
          ]
        }
      ],
      "source": [
        "# Export my embedding to JSON in format:\n",
        "# {\n",
        "#     \"id\": \"word id\",\n",
        "#     \"electra\": [1, 2, 3, ...],\n",
        "#     \"bertseg\": [1, 2, 3, ...],\n",
        "#     \"bertmsa\": [1, 2, 3, ...]\n",
        "# }\n",
        "\n",
        "import json\n",
        "\n",
        "predictions = []\n",
        "for sample in tqdm(valid_dataloader):\n",
        "    with torch.no_grad():\n",
        "        inputs = {\n",
        "            k: v\n",
        "            for k, v in sample.items()\n",
        "            if k in [\"input_ids\", \"attention_mask\"]\n",
        "        }\n",
        "        outputs_electra = model_electra(**inputs)\n",
        "        outputs_bertseg = model_bertseg(**inputs)\n",
        "        outputs_bertmsa = model_bertmsa(**inputs)\n",
        "        for i in range(4):\n",
        "          if i >= len(sample[\"id\"]):\n",
        "            break\n",
        "          predictions.append({\n",
        "            \"id\": sample[\"id\"][i],\n",
        "            \"electra\": outputs_electra[i].tolist(),\n",
        "            \"bertseg\": outputs_bertseg[i].tolist(),\n",
        "            \"bertmsa\": outputs_bertmsa[i].tolist(),\n",
        "          })"
      ]
    },
    {
      "cell_type": "code",
      "execution_count": 23,
      "metadata": {},
      "outputs": [],
      "source": [
        "with open(\"dev_submission_ex.json\", \"w\") as f:\n",
        "    json.dump(predictions, f)"
      ]
    },
    {
      "cell_type": "code",
      "execution_count": 411,
      "metadata": {},
      "outputs": [
        {
          "name": "stderr",
          "output_type": "stream",
          "text": [
            "100%|██████████| 981/981 [11:58<00:00,  1.37it/s]\n"
          ]
        }
      ],
      "source": [
        "predictions = []\n",
        "for sample in tqdm(valid_dataloader):\n",
        "    with torch.no_grad():\n",
        "        inputs = {\n",
        "            k: v\n",
        "            for k, v in sample.items()\n",
        "            if k in [\"input_ids\", \"attention_mask\"]\n",
        "        }\n",
        "        outputs_electra = model_electra(**inputs)\n",
        "        outputs_bertseg = model_bertseg(**inputs)\n",
        "        outputs_bertmsa = model_bertmsa(**inputs)\n",
        "        predictions.append({\n",
        "          \"id\": sample[\"id\"],\n",
        "          \"electra\": outputs_electra[0].tolist(),\n",
        "          \"bertseg\": outputs_bertseg[0].tolist(),\n",
        "          \"bertmsa\": outputs_bertmsa[0].tolist(),\n",
        "        })\n",
        "\n",
        "with open(\"dev_submission.json\", \"w\") as f:\n",
        "    json.dump(predictions, f)"
      ]
    },
    {
      "cell_type": "markdown",
      "metadata": {
        "id": "J-BBePM7Rxq-"
      },
      "source": [
        "# Use it"
      ]
    },
    {
      "cell_type": "code",
      "execution_count": null,
      "metadata": {
        "id": "bdZCucQiCa6k"
      },
      "outputs": [],
      "source": [
        "words = dataset['train']['word']\n",
        "targets = dataset['train'][target_embedding]"
      ]
    },
    {
      "cell_type": "code",
      "execution_count": null,
      "metadata": {
        "colab": {
          "base_uri": "https://localhost:8080/"
        },
        "id": "HU_KaOMZgP4X",
        "outputId": "87cbb20d-8563-4a28-f11d-c409eafda372"
      },
      "outputs": [],
      "source": [
        "from torch.nn import functional as F\n",
        "from typing import List\n",
        "\n",
        "model.eval()\n",
        "\n",
        "query = \"منسوب إلى بيع،صفقة يتم بموجبها تبادل الشيء بالشيء أو بما يساوي قيمته\"\n",
        "\n",
        "# Calculate top n words similar to the output embedding\n",
        "scores = {}\n",
        "tokenized_query = tokenizer(\n",
        "    query,\n",
        "    max_length=max_input_length,\n",
        "    padding=padding,\n",
        "    truncation=True,\n",
        "    return_tensors=\"pt\")\n",
        "inputs = {\n",
        "            k: v.to(device)\n",
        "            for k, v in tokenized_query.items()\n",
        "            if k in [\"input_ids\", \"attention_mask\"]\n",
        "        }\n",
        "output = model(**inputs)\n",
        "for i in tqdm(range(len(targets))):\n",
        "  score = F.cosine_similarity(output[0].to(device), targets[i][0].to(device), dim=0)\n",
        "  scores[words[i]] = score.item()"
      ]
    },
    {
      "cell_type": "code",
      "execution_count": null,
      "metadata": {
        "colab": {
          "base_uri": "https://localhost:8080/"
        },
        "id": "qzK6vhSc_yrL",
        "outputId": "219e55fe-742d-4066-f12b-98d17b98cd7b"
      },
      "outputs": [],
      "source": [
        "sorted(scores, key=scores.get, reverse=True)[:10]"
      ]
    }
  ],
  "metadata": {
    "accelerator": "GPU",
    "colab": {
      "gpuType": "A100",
      "machine_shape": "hm",
      "provenance": []
    },
    "kernelspec": {
      "display_name": "Python 3",
      "name": "python3"
    },
    "language_info": {
      "codemirror_mode": {
        "name": "ipython",
        "version": 3
      },
      "file_extension": ".py",
      "mimetype": "text/x-python",
      "name": "python",
      "nbconvert_exporter": "python",
      "pygments_lexer": "ipython3",
      "version": "3.9.6"
    },
    "widgets": {
      "application/vnd.jupyter.widget-state+json": {
        "00e65676538241959934a9af02640057": {
          "model_module": "@jupyter-widgets/controls",
          "model_module_version": "1.5.0",
          "model_name": "ProgressStyleModel",
          "state": {
            "_model_module": "@jupyter-widgets/controls",
            "_model_module_version": "1.5.0",
            "_model_name": "ProgressStyleModel",
            "_view_count": null,
            "_view_module": "@jupyter-widgets/base",
            "_view_module_version": "1.2.0",
            "_view_name": "StyleView",
            "bar_color": null,
            "description_width": ""
          }
        },
        "0c1f04cb64084cb08360130be2e9e60e": {
          "model_module": "@jupyter-widgets/controls",
          "model_module_version": "1.5.0",
          "model_name": "HTMLModel",
          "state": {
            "_dom_classes": [],
            "_model_module": "@jupyter-widgets/controls",
            "_model_module_version": "1.5.0",
            "_model_name": "HTMLModel",
            "_view_count": null,
            "_view_module": "@jupyter-widgets/controls",
            "_view_module_version": "1.5.0",
            "_view_name": "HTMLView",
            "description": "",
            "description_tooltip": null,
            "layout": "IPY_MODEL_36a190e52b0a4ce5b9ea73aa58129edf",
            "placeholder": "​",
            "style": "IPY_MODEL_11ff5f5516b64ad08319e5da149886fd",
            "value": " 3921/3921 [00:18&lt;00:00, 208.59 examples/s]"
          }
        },
        "11ff5f5516b64ad08319e5da149886fd": {
          "model_module": "@jupyter-widgets/controls",
          "model_module_version": "1.5.0",
          "model_name": "DescriptionStyleModel",
          "state": {
            "_model_module": "@jupyter-widgets/controls",
            "_model_module_version": "1.5.0",
            "_model_name": "DescriptionStyleModel",
            "_view_count": null,
            "_view_module": "@jupyter-widgets/base",
            "_view_module_version": "1.2.0",
            "_view_name": "StyleView",
            "description_width": ""
          }
        },
        "19072179cb7c4da69f562997c10bb65a": {
          "model_module": "@jupyter-widgets/controls",
          "model_module_version": "1.5.0",
          "model_name": "HTMLModel",
          "state": {
            "_dom_classes": [],
            "_model_module": "@jupyter-widgets/controls",
            "_model_module_version": "1.5.0",
            "_model_name": "HTMLModel",
            "_view_count": null,
            "_view_module": "@jupyter-widgets/controls",
            "_view_module_version": "1.5.0",
            "_view_name": "HTMLView",
            "description": "",
            "description_tooltip": null,
            "layout": "IPY_MODEL_f9d3fade01334116ab91455b3eeda9aa",
            "placeholder": "​",
            "style": "IPY_MODEL_246ebff1097b4f1e8cc4e62fb96eb3ff",
            "value": "Map: 100%"
          }
        },
        "246ebff1097b4f1e8cc4e62fb96eb3ff": {
          "model_module": "@jupyter-widgets/controls",
          "model_module_version": "1.5.0",
          "model_name": "DescriptionStyleModel",
          "state": {
            "_model_module": "@jupyter-widgets/controls",
            "_model_module_version": "1.5.0",
            "_model_name": "DescriptionStyleModel",
            "_view_count": null,
            "_view_module": "@jupyter-widgets/base",
            "_view_module_version": "1.2.0",
            "_view_name": "StyleView",
            "description_width": ""
          }
        },
        "26ba5ae1d74d4d9f904cf9f85b9a4532": {
          "model_module": "@jupyter-widgets/controls",
          "model_module_version": "1.5.0",
          "model_name": "HBoxModel",
          "state": {
            "_dom_classes": [],
            "_model_module": "@jupyter-widgets/controls",
            "_model_module_version": "1.5.0",
            "_model_name": "HBoxModel",
            "_view_count": null,
            "_view_module": "@jupyter-widgets/controls",
            "_view_module_version": "1.5.0",
            "_view_name": "HBoxView",
            "box_style": "",
            "children": [
              "IPY_MODEL_19072179cb7c4da69f562997c10bb65a",
              "IPY_MODEL_6ee0dd96be584533982f1a7242ee5652",
              "IPY_MODEL_4728edae205d46129392ba36569c67ac"
            ],
            "layout": "IPY_MODEL_c058eaa44b1f4c00933e8a7bc2d06481"
          }
        },
        "2d1c70762ed84c99b18f6c2c1f2d544d": {
          "model_module": "@jupyter-widgets/controls",
          "model_module_version": "1.5.0",
          "model_name": "DescriptionStyleModel",
          "state": {
            "_model_module": "@jupyter-widgets/controls",
            "_model_module_version": "1.5.0",
            "_model_name": "DescriptionStyleModel",
            "_view_count": null,
            "_view_module": "@jupyter-widgets/base",
            "_view_module_version": "1.2.0",
            "_view_name": "StyleView",
            "description_width": ""
          }
        },
        "36a190e52b0a4ce5b9ea73aa58129edf": {
          "model_module": "@jupyter-widgets/base",
          "model_module_version": "1.2.0",
          "model_name": "LayoutModel",
          "state": {
            "_model_module": "@jupyter-widgets/base",
            "_model_module_version": "1.2.0",
            "_model_name": "LayoutModel",
            "_view_count": null,
            "_view_module": "@jupyter-widgets/base",
            "_view_module_version": "1.2.0",
            "_view_name": "LayoutView",
            "align_content": null,
            "align_items": null,
            "align_self": null,
            "border": null,
            "bottom": null,
            "display": null,
            "flex": null,
            "flex_flow": null,
            "grid_area": null,
            "grid_auto_columns": null,
            "grid_auto_flow": null,
            "grid_auto_rows": null,
            "grid_column": null,
            "grid_gap": null,
            "grid_row": null,
            "grid_template_areas": null,
            "grid_template_columns": null,
            "grid_template_rows": null,
            "height": null,
            "justify_content": null,
            "justify_items": null,
            "left": null,
            "margin": null,
            "max_height": null,
            "max_width": null,
            "min_height": null,
            "min_width": null,
            "object_fit": null,
            "object_position": null,
            "order": null,
            "overflow": null,
            "overflow_x": null,
            "overflow_y": null,
            "padding": null,
            "right": null,
            "top": null,
            "visibility": null,
            "width": null
          }
        },
        "3ed55a82f6e64382b7cd6d7984cf3037": {
          "model_module": "@jupyter-widgets/base",
          "model_module_version": "1.2.0",
          "model_name": "LayoutModel",
          "state": {
            "_model_module": "@jupyter-widgets/base",
            "_model_module_version": "1.2.0",
            "_model_name": "LayoutModel",
            "_view_count": null,
            "_view_module": "@jupyter-widgets/base",
            "_view_module_version": "1.2.0",
            "_view_name": "LayoutView",
            "align_content": null,
            "align_items": null,
            "align_self": null,
            "border": null,
            "bottom": null,
            "display": null,
            "flex": null,
            "flex_flow": null,
            "grid_area": null,
            "grid_auto_columns": null,
            "grid_auto_flow": null,
            "grid_auto_rows": null,
            "grid_column": null,
            "grid_gap": null,
            "grid_row": null,
            "grid_template_areas": null,
            "grid_template_columns": null,
            "grid_template_rows": null,
            "height": null,
            "justify_content": null,
            "justify_items": null,
            "left": null,
            "margin": null,
            "max_height": null,
            "max_width": null,
            "min_height": null,
            "min_width": null,
            "object_fit": null,
            "object_position": null,
            "order": null,
            "overflow": null,
            "overflow_x": null,
            "overflow_y": null,
            "padding": null,
            "right": null,
            "top": null,
            "visibility": null,
            "width": null
          }
        },
        "4728edae205d46129392ba36569c67ac": {
          "model_module": "@jupyter-widgets/controls",
          "model_module_version": "1.5.0",
          "model_name": "HTMLModel",
          "state": {
            "_dom_classes": [],
            "_model_module": "@jupyter-widgets/controls",
            "_model_module_version": "1.5.0",
            "_model_name": "HTMLModel",
            "_view_count": null,
            "_view_module": "@jupyter-widgets/controls",
            "_view_module_version": "1.5.0",
            "_view_name": "HTMLView",
            "description": "",
            "description_tooltip": null,
            "layout": "IPY_MODEL_af1c18d4aa9d4fdfa578cae49c89e381",
            "placeholder": "​",
            "style": "IPY_MODEL_2d1c70762ed84c99b18f6c2c1f2d544d",
            "value": " 31372/31372 [02:35&lt;00:00, 204.20 examples/s]"
          }
        },
        "4d8c83a1f819427d932ba008b9cd8427": {
          "model_module": "@jupyter-widgets/base",
          "model_module_version": "1.2.0",
          "model_name": "LayoutModel",
          "state": {
            "_model_module": "@jupyter-widgets/base",
            "_model_module_version": "1.2.0",
            "_model_name": "LayoutModel",
            "_view_count": null,
            "_view_module": "@jupyter-widgets/base",
            "_view_module_version": "1.2.0",
            "_view_name": "LayoutView",
            "align_content": null,
            "align_items": null,
            "align_self": null,
            "border": null,
            "bottom": null,
            "display": null,
            "flex": null,
            "flex_flow": null,
            "grid_area": null,
            "grid_auto_columns": null,
            "grid_auto_flow": null,
            "grid_auto_rows": null,
            "grid_column": null,
            "grid_gap": null,
            "grid_row": null,
            "grid_template_areas": null,
            "grid_template_columns": null,
            "grid_template_rows": null,
            "height": null,
            "justify_content": null,
            "justify_items": null,
            "left": null,
            "margin": null,
            "max_height": null,
            "max_width": null,
            "min_height": null,
            "min_width": null,
            "object_fit": null,
            "object_position": null,
            "order": null,
            "overflow": null,
            "overflow_x": null,
            "overflow_y": null,
            "padding": null,
            "right": null,
            "top": null,
            "visibility": null,
            "width": null
          }
        },
        "6ce837c6fdec4306bf09c05f16bc81bf": {
          "model_module": "@jupyter-widgets/controls",
          "model_module_version": "1.5.0",
          "model_name": "HBoxModel",
          "state": {
            "_dom_classes": [],
            "_model_module": "@jupyter-widgets/controls",
            "_model_module_version": "1.5.0",
            "_model_name": "HBoxModel",
            "_view_count": null,
            "_view_module": "@jupyter-widgets/controls",
            "_view_module_version": "1.5.0",
            "_view_name": "HBoxView",
            "box_style": "",
            "children": [
              "IPY_MODEL_c975373eb56746aca14b27f3d99082ba",
              "IPY_MODEL_80fd294bca664f7fbab6dd24ff3b01d2",
              "IPY_MODEL_0c1f04cb64084cb08360130be2e9e60e"
            ],
            "layout": "IPY_MODEL_eaa25a364b8f4bd18d650fa5cd313f63"
          }
        },
        "6ee0dd96be584533982f1a7242ee5652": {
          "model_module": "@jupyter-widgets/controls",
          "model_module_version": "1.5.0",
          "model_name": "FloatProgressModel",
          "state": {
            "_dom_classes": [],
            "_model_module": "@jupyter-widgets/controls",
            "_model_module_version": "1.5.0",
            "_model_name": "FloatProgressModel",
            "_view_count": null,
            "_view_module": "@jupyter-widgets/controls",
            "_view_module_version": "1.5.0",
            "_view_name": "ProgressView",
            "bar_style": "success",
            "description": "",
            "description_tooltip": null,
            "layout": "IPY_MODEL_4d8c83a1f819427d932ba008b9cd8427",
            "max": 31372,
            "min": 0,
            "orientation": "horizontal",
            "style": "IPY_MODEL_c3dfbd283d904794ae2d5e1432c714b4",
            "value": 31372
          }
        },
        "80fd294bca664f7fbab6dd24ff3b01d2": {
          "model_module": "@jupyter-widgets/controls",
          "model_module_version": "1.5.0",
          "model_name": "FloatProgressModel",
          "state": {
            "_dom_classes": [],
            "_model_module": "@jupyter-widgets/controls",
            "_model_module_version": "1.5.0",
            "_model_name": "FloatProgressModel",
            "_view_count": null,
            "_view_module": "@jupyter-widgets/controls",
            "_view_module_version": "1.5.0",
            "_view_name": "ProgressView",
            "bar_style": "success",
            "description": "",
            "description_tooltip": null,
            "layout": "IPY_MODEL_9dde44bf7efa44e4a5d7d1a12254cff8",
            "max": 3921,
            "min": 0,
            "orientation": "horizontal",
            "style": "IPY_MODEL_00e65676538241959934a9af02640057",
            "value": 3921
          }
        },
        "9dde44bf7efa44e4a5d7d1a12254cff8": {
          "model_module": "@jupyter-widgets/base",
          "model_module_version": "1.2.0",
          "model_name": "LayoutModel",
          "state": {
            "_model_module": "@jupyter-widgets/base",
            "_model_module_version": "1.2.0",
            "_model_name": "LayoutModel",
            "_view_count": null,
            "_view_module": "@jupyter-widgets/base",
            "_view_module_version": "1.2.0",
            "_view_name": "LayoutView",
            "align_content": null,
            "align_items": null,
            "align_self": null,
            "border": null,
            "bottom": null,
            "display": null,
            "flex": null,
            "flex_flow": null,
            "grid_area": null,
            "grid_auto_columns": null,
            "grid_auto_flow": null,
            "grid_auto_rows": null,
            "grid_column": null,
            "grid_gap": null,
            "grid_row": null,
            "grid_template_areas": null,
            "grid_template_columns": null,
            "grid_template_rows": null,
            "height": null,
            "justify_content": null,
            "justify_items": null,
            "left": null,
            "margin": null,
            "max_height": null,
            "max_width": null,
            "min_height": null,
            "min_width": null,
            "object_fit": null,
            "object_position": null,
            "order": null,
            "overflow": null,
            "overflow_x": null,
            "overflow_y": null,
            "padding": null,
            "right": null,
            "top": null,
            "visibility": null,
            "width": null
          }
        },
        "af1c18d4aa9d4fdfa578cae49c89e381": {
          "model_module": "@jupyter-widgets/base",
          "model_module_version": "1.2.0",
          "model_name": "LayoutModel",
          "state": {
            "_model_module": "@jupyter-widgets/base",
            "_model_module_version": "1.2.0",
            "_model_name": "LayoutModel",
            "_view_count": null,
            "_view_module": "@jupyter-widgets/base",
            "_view_module_version": "1.2.0",
            "_view_name": "LayoutView",
            "align_content": null,
            "align_items": null,
            "align_self": null,
            "border": null,
            "bottom": null,
            "display": null,
            "flex": null,
            "flex_flow": null,
            "grid_area": null,
            "grid_auto_columns": null,
            "grid_auto_flow": null,
            "grid_auto_rows": null,
            "grid_column": null,
            "grid_gap": null,
            "grid_row": null,
            "grid_template_areas": null,
            "grid_template_columns": null,
            "grid_template_rows": null,
            "height": null,
            "justify_content": null,
            "justify_items": null,
            "left": null,
            "margin": null,
            "max_height": null,
            "max_width": null,
            "min_height": null,
            "min_width": null,
            "object_fit": null,
            "object_position": null,
            "order": null,
            "overflow": null,
            "overflow_x": null,
            "overflow_y": null,
            "padding": null,
            "right": null,
            "top": null,
            "visibility": null,
            "width": null
          }
        },
        "bc95e07d227849c7999d513ca174896f": {
          "model_module": "@jupyter-widgets/controls",
          "model_module_version": "1.5.0",
          "model_name": "DescriptionStyleModel",
          "state": {
            "_model_module": "@jupyter-widgets/controls",
            "_model_module_version": "1.5.0",
            "_model_name": "DescriptionStyleModel",
            "_view_count": null,
            "_view_module": "@jupyter-widgets/base",
            "_view_module_version": "1.2.0",
            "_view_name": "StyleView",
            "description_width": ""
          }
        },
        "c058eaa44b1f4c00933e8a7bc2d06481": {
          "model_module": "@jupyter-widgets/base",
          "model_module_version": "1.2.0",
          "model_name": "LayoutModel",
          "state": {
            "_model_module": "@jupyter-widgets/base",
            "_model_module_version": "1.2.0",
            "_model_name": "LayoutModel",
            "_view_count": null,
            "_view_module": "@jupyter-widgets/base",
            "_view_module_version": "1.2.0",
            "_view_name": "LayoutView",
            "align_content": null,
            "align_items": null,
            "align_self": null,
            "border": null,
            "bottom": null,
            "display": null,
            "flex": null,
            "flex_flow": null,
            "grid_area": null,
            "grid_auto_columns": null,
            "grid_auto_flow": null,
            "grid_auto_rows": null,
            "grid_column": null,
            "grid_gap": null,
            "grid_row": null,
            "grid_template_areas": null,
            "grid_template_columns": null,
            "grid_template_rows": null,
            "height": null,
            "justify_content": null,
            "justify_items": null,
            "left": null,
            "margin": null,
            "max_height": null,
            "max_width": null,
            "min_height": null,
            "min_width": null,
            "object_fit": null,
            "object_position": null,
            "order": null,
            "overflow": null,
            "overflow_x": null,
            "overflow_y": null,
            "padding": null,
            "right": null,
            "top": null,
            "visibility": null,
            "width": null
          }
        },
        "c3dfbd283d904794ae2d5e1432c714b4": {
          "model_module": "@jupyter-widgets/controls",
          "model_module_version": "1.5.0",
          "model_name": "ProgressStyleModel",
          "state": {
            "_model_module": "@jupyter-widgets/controls",
            "_model_module_version": "1.5.0",
            "_model_name": "ProgressStyleModel",
            "_view_count": null,
            "_view_module": "@jupyter-widgets/base",
            "_view_module_version": "1.2.0",
            "_view_name": "StyleView",
            "bar_color": null,
            "description_width": ""
          }
        },
        "c975373eb56746aca14b27f3d99082ba": {
          "model_module": "@jupyter-widgets/controls",
          "model_module_version": "1.5.0",
          "model_name": "HTMLModel",
          "state": {
            "_dom_classes": [],
            "_model_module": "@jupyter-widgets/controls",
            "_model_module_version": "1.5.0",
            "_model_name": "HTMLModel",
            "_view_count": null,
            "_view_module": "@jupyter-widgets/controls",
            "_view_module_version": "1.5.0",
            "_view_name": "HTMLView",
            "description": "",
            "description_tooltip": null,
            "layout": "IPY_MODEL_3ed55a82f6e64382b7cd6d7984cf3037",
            "placeholder": "​",
            "style": "IPY_MODEL_bc95e07d227849c7999d513ca174896f",
            "value": "Map: 100%"
          }
        },
        "eaa25a364b8f4bd18d650fa5cd313f63": {
          "model_module": "@jupyter-widgets/base",
          "model_module_version": "1.2.0",
          "model_name": "LayoutModel",
          "state": {
            "_model_module": "@jupyter-widgets/base",
            "_model_module_version": "1.2.0",
            "_model_name": "LayoutModel",
            "_view_count": null,
            "_view_module": "@jupyter-widgets/base",
            "_view_module_version": "1.2.0",
            "_view_name": "LayoutView",
            "align_content": null,
            "align_items": null,
            "align_self": null,
            "border": null,
            "bottom": null,
            "display": null,
            "flex": null,
            "flex_flow": null,
            "grid_area": null,
            "grid_auto_columns": null,
            "grid_auto_flow": null,
            "grid_auto_rows": null,
            "grid_column": null,
            "grid_gap": null,
            "grid_row": null,
            "grid_template_areas": null,
            "grid_template_columns": null,
            "grid_template_rows": null,
            "height": null,
            "justify_content": null,
            "justify_items": null,
            "left": null,
            "margin": null,
            "max_height": null,
            "max_width": null,
            "min_height": null,
            "min_width": null,
            "object_fit": null,
            "object_position": null,
            "order": null,
            "overflow": null,
            "overflow_x": null,
            "overflow_y": null,
            "padding": null,
            "right": null,
            "top": null,
            "visibility": null,
            "width": null
          }
        },
        "f9d3fade01334116ab91455b3eeda9aa": {
          "model_module": "@jupyter-widgets/base",
          "model_module_version": "1.2.0",
          "model_name": "LayoutModel",
          "state": {
            "_model_module": "@jupyter-widgets/base",
            "_model_module_version": "1.2.0",
            "_model_name": "LayoutModel",
            "_view_count": null,
            "_view_module": "@jupyter-widgets/base",
            "_view_module_version": "1.2.0",
            "_view_name": "LayoutView",
            "align_content": null,
            "align_items": null,
            "align_self": null,
            "border": null,
            "bottom": null,
            "display": null,
            "flex": null,
            "flex_flow": null,
            "grid_area": null,
            "grid_auto_columns": null,
            "grid_auto_flow": null,
            "grid_auto_rows": null,
            "grid_column": null,
            "grid_gap": null,
            "grid_row": null,
            "grid_template_areas": null,
            "grid_template_columns": null,
            "grid_template_rows": null,
            "height": null,
            "justify_content": null,
            "justify_items": null,
            "left": null,
            "margin": null,
            "max_height": null,
            "max_width": null,
            "min_height": null,
            "min_width": null,
            "object_fit": null,
            "object_position": null,
            "order": null,
            "overflow": null,
            "overflow_x": null,
            "overflow_y": null,
            "padding": null,
            "right": null,
            "top": null,
            "visibility": null,
            "width": null
          }
        }
      }
    }
  },
  "nbformat": 4,
  "nbformat_minor": 0
}
